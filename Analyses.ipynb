{
 "cells": [
  {
   "cell_type": "code",
   "execution_count": 186,
   "metadata": {
    "collapsed": true
   },
   "outputs": [],
   "source": [
    "import os\n",
    "import numpy as np\n",
    "import pandas as pd\n",
    "\n",
    "import tensorflow as tf\n",
    "import tflearn\n",
    "\n",
    "import xgboost as xgb\n",
    "#import autosklearn.regression\n",
    "\n",
    "from sklearn.metrics import r2_score\n",
    "from scipy import stats\n",
    "from tpot import TPOTRegressor\n",
    "\n",
    "from sklearn import model_selection\n",
    "from sklearn.ensemble import AdaBoostRegressor\n",
    "from sklearn.ensemble import VotingClassifier\n"
   ]
  },
  {
   "cell_type": "markdown",
   "metadata": {},
   "source": [
    "# Reading the Data"
   ]
  },
  {
   "cell_type": "code",
   "execution_count": 187,
   "metadata": {
    "collapsed": true
   },
   "outputs": [],
   "source": [
    "datapath = 'Data/'\n",
    "test_csv = 'test.csv'\n",
    "train_csv = 'train.csv'\n",
    "sample_csv = 'sample_submission.csv'"
   ]
  },
  {
   "cell_type": "code",
   "execution_count": 188,
   "metadata": {
    "collapsed": true
   },
   "outputs": [],
   "source": [
    "data = pd.read_csv(os.path.join(datapath,train_csv))"
   ]
  },
  {
   "cell_type": "markdown",
   "metadata": {},
   "source": [
    "# Understanding the Data"
   ]
  },
  {
   "cell_type": "code",
   "execution_count": 189,
   "metadata": {},
   "outputs": [
    {
     "name": "stdout",
     "output_type": "stream",
     "text": [
      "Variables with letters are categorical. Variables with 0/1 are binary values.\n"
     ]
    },
    {
     "data": {
      "text/html": [
       "<div>\n",
       "<style>\n",
       "    .dataframe thead tr:only-child th {\n",
       "        text-align: right;\n",
       "    }\n",
       "\n",
       "    .dataframe thead th {\n",
       "        text-align: left;\n",
       "    }\n",
       "\n",
       "    .dataframe tbody tr th {\n",
       "        vertical-align: top;\n",
       "    }\n",
       "</style>\n",
       "<table border=\"1\" class=\"dataframe\">\n",
       "  <thead>\n",
       "    <tr style=\"text-align: right;\">\n",
       "      <th></th>\n",
       "      <th>ID</th>\n",
       "      <th>y</th>\n",
       "      <th>X0</th>\n",
       "      <th>X1</th>\n",
       "      <th>X2</th>\n",
       "      <th>X3</th>\n",
       "      <th>X4</th>\n",
       "      <th>X5</th>\n",
       "      <th>X6</th>\n",
       "      <th>X8</th>\n",
       "      <th>...</th>\n",
       "      <th>X375</th>\n",
       "      <th>X376</th>\n",
       "      <th>X377</th>\n",
       "      <th>X378</th>\n",
       "      <th>X379</th>\n",
       "      <th>X380</th>\n",
       "      <th>X382</th>\n",
       "      <th>X383</th>\n",
       "      <th>X384</th>\n",
       "      <th>X385</th>\n",
       "    </tr>\n",
       "  </thead>\n",
       "  <tbody>\n",
       "    <tr>\n",
       "      <th>0</th>\n",
       "      <td>0</td>\n",
       "      <td>130.81</td>\n",
       "      <td>k</td>\n",
       "      <td>v</td>\n",
       "      <td>at</td>\n",
       "      <td>a</td>\n",
       "      <td>d</td>\n",
       "      <td>u</td>\n",
       "      <td>j</td>\n",
       "      <td>o</td>\n",
       "      <td>...</td>\n",
       "      <td>0</td>\n",
       "      <td>0</td>\n",
       "      <td>1</td>\n",
       "      <td>0</td>\n",
       "      <td>0</td>\n",
       "      <td>0</td>\n",
       "      <td>0</td>\n",
       "      <td>0</td>\n",
       "      <td>0</td>\n",
       "      <td>0</td>\n",
       "    </tr>\n",
       "    <tr>\n",
       "      <th>1</th>\n",
       "      <td>6</td>\n",
       "      <td>88.53</td>\n",
       "      <td>k</td>\n",
       "      <td>t</td>\n",
       "      <td>av</td>\n",
       "      <td>e</td>\n",
       "      <td>d</td>\n",
       "      <td>y</td>\n",
       "      <td>l</td>\n",
       "      <td>o</td>\n",
       "      <td>...</td>\n",
       "      <td>1</td>\n",
       "      <td>0</td>\n",
       "      <td>0</td>\n",
       "      <td>0</td>\n",
       "      <td>0</td>\n",
       "      <td>0</td>\n",
       "      <td>0</td>\n",
       "      <td>0</td>\n",
       "      <td>0</td>\n",
       "      <td>0</td>\n",
       "    </tr>\n",
       "    <tr>\n",
       "      <th>2</th>\n",
       "      <td>7</td>\n",
       "      <td>76.26</td>\n",
       "      <td>az</td>\n",
       "      <td>w</td>\n",
       "      <td>n</td>\n",
       "      <td>c</td>\n",
       "      <td>d</td>\n",
       "      <td>x</td>\n",
       "      <td>j</td>\n",
       "      <td>x</td>\n",
       "      <td>...</td>\n",
       "      <td>0</td>\n",
       "      <td>0</td>\n",
       "      <td>0</td>\n",
       "      <td>0</td>\n",
       "      <td>0</td>\n",
       "      <td>0</td>\n",
       "      <td>1</td>\n",
       "      <td>0</td>\n",
       "      <td>0</td>\n",
       "      <td>0</td>\n",
       "    </tr>\n",
       "  </tbody>\n",
       "</table>\n",
       "<p>3 rows × 378 columns</p>\n",
       "</div>"
      ],
      "text/plain": [
       "   ID       y  X0 X1  X2 X3 X4 X5 X6 X8  ...   X375  X376  X377  X378  X379  \\\n",
       "0   0  130.81   k  v  at  a  d  u  j  o  ...      0     0     1     0     0   \n",
       "1   6   88.53   k  t  av  e  d  y  l  o  ...      1     0     0     0     0   \n",
       "2   7   76.26  az  w   n  c  d  x  j  x  ...      0     0     0     0     0   \n",
       "\n",
       "   X380  X382  X383  X384  X385  \n",
       "0     0     0     0     0     0  \n",
       "1     0     0     0     0     0  \n",
       "2     0     1     0     0     0  \n",
       "\n",
       "[3 rows x 378 columns]"
      ]
     },
     "execution_count": 189,
     "metadata": {},
     "output_type": "execute_result"
    }
   ],
   "source": [
    "print('Variables with letters are categorical. Variables with 0/1 are binary values.')\n",
    "data.head(3)"
   ]
  },
  {
   "cell_type": "code",
   "execution_count": 190,
   "metadata": {},
   "outputs": [
    {
     "name": "stdout",
     "output_type": "stream",
     "text": [
      "Categorical: ['X0', 'X1', 'X2', 'X3', 'X4', 'X5', 'X6', 'X8']\n",
      "Float: ['y']\n",
      "Has other type? []\n"
     ]
    }
   ],
   "source": [
    "tp_int = []\n",
    "tp_float = []\n",
    "tp_obj = []\n",
    "tp_other = []\n",
    "\n",
    "#Getting all variables names, less ID and looking for it types \n",
    "for i in data.columns.to_series()[1:]:\n",
    "    if data[i].dtype == 'int64':\n",
    "        tp_int.append(i)\n",
    "    elif data[i].dtype == 'float64':\n",
    "        tp_float.append(i)\n",
    "    elif data[i].dtype == 'object':\n",
    "        tp_obj.append(i)\n",
    "    else:\n",
    "        tp_other.append(i)\n",
    "        \n",
    "dic = {'tp_int': tp_int, 'tp_float': tp_float, 'tp_obj': tp_obj, 'tp_other': tp_other}\n",
    "\n",
    "print('Categorical:', tp_obj)\n",
    "print('Float:', tp_float)\n",
    "print('Has other type?', tp_other)"
   ]
  },
  {
   "cell_type": "code",
   "execution_count": 191,
   "metadata": {},
   "outputs": [
    {
     "name": "stdout",
     "output_type": "stream",
     "text": [
      "Variable: X10, Min: 0, Max: 1 , Unique: [0 1]\n",
      "Variable: X11, Min: 0, Max: 0 , Unique: [0]\n",
      "Variable: X12, Min: 0, Max: 1 , Unique: [0 1]\n",
      "Variable: X13, Min: 0, Max: 1 , Unique: [1 0]\n",
      "Variable: X14, Min: 0, Max: 1 , Unique: [0 1]\n",
      "Variable: X15, Min: 0, Max: 1 , Unique: [0 1]\n",
      "Variable: X16, Min: 0, Max: 1 , Unique: [0 1]\n",
      "Variable: X17, Min: 0, Max: 1 , Unique: [0 1]\n",
      "Variable: X18, Min: 0, Max: 1 , Unique: [1 0]\n",
      "Variable: X19, Min: 0, Max: 1 , Unique: [0 1]\n",
      "Variable: X20, Min: 0, Max: 1 , Unique: [0 1]\n",
      "Variable: X21, Min: 0, Max: 1 , Unique: [1 0]\n",
      "Variable: X22, Min: 0, Max: 1 , Unique: [0 1]\n",
      "Variable: X23, Min: 0, Max: 1 , Unique: [0 1]\n",
      "Variable: X24, Min: 0, Max: 1 , Unique: [0 1]\n",
      "Variable: X26, Min: 0, Max: 1 , Unique: [0 1]\n",
      "Variable: X27, Min: 0, Max: 1 , Unique: [0 1]\n",
      "Variable: X28, Min: 0, Max: 1 , Unique: [0 1]\n",
      "Variable: X29, Min: 0, Max: 1 , Unique: [0 1]\n",
      "Variable: X30, Min: 0, Max: 1 , Unique: [0 1]\n",
      "Variable: X31, Min: 0, Max: 1 , Unique: [1 0]\n",
      "Variable: X32, Min: 0, Max: 1 , Unique: [0 1]\n",
      "Variable: X33, Min: 0, Max: 1 , Unique: [0 1]\n",
      "Variable: X34, Min: 0, Max: 1 , Unique: [0 1]\n",
      "Variable: X35, Min: 0, Max: 1 , Unique: [1 0]\n",
      "Variable: X36, Min: 0, Max: 1 , Unique: [0 1]\n",
      "Variable: X37, Min: 0, Max: 1 , Unique: [1 0]\n",
      "Variable: X38, Min: 0, Max: 1 , Unique: [0 1]\n",
      "Variable: X39, Min: 0, Max: 1 , Unique: [0 1]\n",
      "Variable: X40, Min: 0, Max: 1 , Unique: [0 1]\n",
      "Variable: X41, Min: 0, Max: 1 , Unique: [0 1]\n",
      "Variable: X42, Min: 0, Max: 1 , Unique: [0 1]\n",
      "Variable: X43, Min: 0, Max: 1 , Unique: [0 1]\n",
      "Variable: X44, Min: 0, Max: 1 , Unique: [0 1]\n",
      "Variable: X45, Min: 0, Max: 1 , Unique: [0 1]\n",
      "Variable: X46, Min: 0, Max: 1 , Unique: [1 0]\n",
      "Variable: X47, Min: 0, Max: 1 , Unique: [0 1]\n",
      "Variable: X48, Min: 0, Max: 1 , Unique: [0 1]\n",
      "Variable: X49, Min: 0, Max: 1 , Unique: [0 1]\n",
      "Variable: X50, Min: 0, Max: 1 , Unique: [0 1]\n",
      "Variable: X51, Min: 0, Max: 1 , Unique: [0 1]\n",
      "Variable: X52, Min: 0, Max: 1 , Unique: [0 1]\n",
      "Variable: X53, Min: 0, Max: 1 , Unique: [0 1]\n",
      "Variable: X54, Min: 0, Max: 1 , Unique: [0 1]\n",
      "Variable: X55, Min: 0, Max: 1 , Unique: [0 1]\n",
      "Variable: X56, Min: 0, Max: 1 , Unique: [0 1]\n",
      "Variable: X57, Min: 0, Max: 1 , Unique: [0 1]\n",
      "Variable: X58, Min: 0, Max: 1 , Unique: [1 0]\n",
      "Variable: X59, Min: 0, Max: 1 , Unique: [0 1]\n",
      "Variable: X60, Min: 0, Max: 1 , Unique: [0 1]\n",
      "Variable: X61, Min: 0, Max: 1 , Unique: [0 1]\n",
      "Variable: X62, Min: 0, Max: 1 , Unique: [0 1]\n",
      "Variable: X63, Min: 0, Max: 1 , Unique: [0 1]\n",
      "Variable: X64, Min: 0, Max: 1 , Unique: [0 1]\n",
      "Variable: X65, Min: 0, Max: 1 , Unique: [0 1]\n",
      "Variable: X66, Min: 0, Max: 1 , Unique: [0 1]\n",
      "Variable: X67, Min: 0, Max: 1 , Unique: [0 1]\n",
      "Variable: X68, Min: 0, Max: 1 , Unique: [1 0]\n",
      "Variable: X69, Min: 0, Max: 1 , Unique: [0 1]\n",
      "Variable: X70, Min: 0, Max: 1 , Unique: [1 0]\n",
      "Variable: X71, Min: 0, Max: 1 , Unique: [0 1]\n",
      "Variable: X73, Min: 0, Max: 1 , Unique: [0 1]\n",
      "Variable: X74, Min: 0, Max: 1 , Unique: [1 0]\n",
      "Variable: X75, Min: 0, Max: 1 , Unique: [0 1]\n",
      "Variable: X76, Min: 0, Max: 1 , Unique: [0 1]\n",
      "Variable: X77, Min: 0, Max: 1 , Unique: [0 1]\n",
      "Variable: X78, Min: 0, Max: 1 , Unique: [0 1]\n",
      "Variable: X79, Min: 0, Max: 1 , Unique: [0 1]\n",
      "Variable: X80, Min: 0, Max: 1 , Unique: [0 1]\n",
      "Variable: X81, Min: 0, Max: 1 , Unique: [0 1]\n",
      "Variable: X82, Min: 0, Max: 1 , Unique: [0 1]\n",
      "Variable: X83, Min: 0, Max: 1 , Unique: [0 1]\n",
      "Variable: X84, Min: 0, Max: 1 , Unique: [0 1]\n",
      "Variable: X85, Min: 0, Max: 1 , Unique: [1 0]\n",
      "Variable: X86, Min: 0, Max: 1 , Unique: [0 1]\n",
      "Variable: X87, Min: 0, Max: 1 , Unique: [0 1]\n",
      "Variable: X88, Min: 0, Max: 1 , Unique: [0 1]\n",
      "Variable: X89, Min: 0, Max: 1 , Unique: [0 1]\n",
      "Variable: X90, Min: 0, Max: 1 , Unique: [0 1]\n",
      "Variable: X91, Min: 0, Max: 1 , Unique: [0 1]\n",
      "Variable: X92, Min: 0, Max: 1 , Unique: [0 1]\n",
      "Variable: X93, Min: 0, Max: 0 , Unique: [0]\n",
      "Variable: X94, Min: 0, Max: 1 , Unique: [0 1]\n",
      "Variable: X95, Min: 0, Max: 1 , Unique: [0 1]\n",
      "Variable: X96, Min: 0, Max: 1 , Unique: [0 1]\n",
      "Variable: X97, Min: 0, Max: 1 , Unique: [0 1]\n",
      "Variable: X98, Min: 0, Max: 1 , Unique: [0 1]\n",
      "Variable: X99, Min: 0, Max: 1 , Unique: [0 1]\n",
      "Variable: X100, Min: 0, Max: 1 , Unique: [0 1]\n",
      "Variable: X101, Min: 0, Max: 1 , Unique: [0 1]\n",
      "Variable: X102, Min: 0, Max: 1 , Unique: [0 1]\n",
      "Variable: X103, Min: 0, Max: 1 , Unique: [0 1]\n",
      "Variable: X104, Min: 0, Max: 1 , Unique: [0 1]\n",
      "Variable: X105, Min: 0, Max: 1 , Unique: [0 1]\n",
      "Variable: X106, Min: 0, Max: 1 , Unique: [0 1]\n",
      "Variable: X107, Min: 0, Max: 0 , Unique: [0]\n",
      "Variable: X108, Min: 0, Max: 1 , Unique: [0 1]\n",
      "Variable: X109, Min: 0, Max: 1 , Unique: [0 1]\n",
      "Variable: X110, Min: 0, Max: 1 , Unique: [0 1]\n",
      "Variable: X111, Min: 0, Max: 1 , Unique: [1 0]\n",
      "Variable: X112, Min: 0, Max: 1 , Unique: [0 1]\n",
      "Variable: X113, Min: 0, Max: 1 , Unique: [0 1]\n",
      "Variable: X114, Min: 0, Max: 1 , Unique: [1 0]\n",
      "Variable: X115, Min: 0, Max: 1 , Unique: [0 1]\n",
      "Variable: X116, Min: 0, Max: 1 , Unique: [1 0]\n",
      "Variable: X117, Min: 0, Max: 1 , Unique: [0 1]\n",
      "Variable: X118, Min: 0, Max: 1 , Unique: [1 0]\n",
      "Variable: X119, Min: 0, Max: 1 , Unique: [1 0]\n",
      "Variable: X120, Min: 0, Max: 1 , Unique: [1 0]\n",
      "Variable: X122, Min: 0, Max: 1 , Unique: [0 1]\n",
      "Variable: X123, Min: 0, Max: 1 , Unique: [0 1]\n",
      "Variable: X124, Min: 0, Max: 1 , Unique: [0 1]\n",
      "Variable: X125, Min: 0, Max: 1 , Unique: [0 1]\n",
      "Variable: X126, Min: 0, Max: 1 , Unique: [0 1]\n",
      "Variable: X127, Min: 0, Max: 1 , Unique: [0 1]\n",
      "Variable: X128, Min: 0, Max: 1 , Unique: [1 0]\n",
      "Variable: X129, Min: 0, Max: 1 , Unique: [0 1]\n",
      "Variable: X130, Min: 0, Max: 1 , Unique: [0 1]\n",
      "Variable: X131, Min: 0, Max: 1 , Unique: [1 0]\n",
      "Variable: X132, Min: 0, Max: 1 , Unique: [0 1]\n",
      "Variable: X133, Min: 0, Max: 1 , Unique: [0 1]\n",
      "Variable: X134, Min: 0, Max: 1 , Unique: [0 1]\n",
      "Variable: X135, Min: 0, Max: 1 , Unique: [0 1]\n",
      "Variable: X136, Min: 0, Max: 1 , Unique: [1 0]\n",
      "Variable: X137, Min: 0, Max: 1 , Unique: [1 0]\n",
      "Variable: X138, Min: 0, Max: 1 , Unique: [0 1]\n",
      "Variable: X139, Min: 0, Max: 1 , Unique: [0 1]\n",
      "Variable: X140, Min: 0, Max: 1 , Unique: [0 1]\n",
      "Variable: X141, Min: 0, Max: 1 , Unique: [0 1]\n",
      "Variable: X142, Min: 0, Max: 1 , Unique: [1 0]\n",
      "Variable: X143, Min: 0, Max: 1 , Unique: [0 1]\n",
      "Variable: X144, Min: 0, Max: 1 , Unique: [1 0]\n",
      "Variable: X145, Min: 0, Max: 1 , Unique: [0 1]\n",
      "Variable: X146, Min: 0, Max: 1 , Unique: [0 1]\n",
      "Variable: X147, Min: 0, Max: 1 , Unique: [0 1]\n",
      "Variable: X148, Min: 0, Max: 1 , Unique: [0 1]\n",
      "Variable: X150, Min: 0, Max: 1 , Unique: [1 0]\n",
      "Variable: X151, Min: 0, Max: 1 , Unique: [0 1]\n",
      "Variable: X152, Min: 0, Max: 1 , Unique: [0 1]\n",
      "Variable: X153, Min: 0, Max: 1 , Unique: [0 1]\n",
      "Variable: X154, Min: 0, Max: 1 , Unique: [0 1]\n",
      "Variable: X155, Min: 0, Max: 1 , Unique: [0 1]\n",
      "Variable: X156, Min: 0, Max: 1 , Unique: [1 0]\n",
      "Variable: X157, Min: 0, Max: 1 , Unique: [0 1]\n",
      "Variable: X158, Min: 0, Max: 1 , Unique: [0 1]\n",
      "Variable: X159, Min: 0, Max: 1 , Unique: [0 1]\n",
      "Variable: X160, Min: 0, Max: 1 , Unique: [0 1]\n",
      "Variable: X161, Min: 0, Max: 1 , Unique: [0 1]\n",
      "Variable: X162, Min: 0, Max: 1 , Unique: [0 1]\n",
      "Variable: X163, Min: 0, Max: 1 , Unique: [0 1]\n",
      "Variable: X164, Min: 0, Max: 1 , Unique: [0 1]\n",
      "Variable: X165, Min: 0, Max: 1 , Unique: [0 1]\n",
      "Variable: X166, Min: 0, Max: 1 , Unique: [0 1]\n",
      "Variable: X167, Min: 0, Max: 1 , Unique: [0 1]\n",
      "Variable: X168, Min: 0, Max: 1 , Unique: [0 1]\n",
      "Variable: X169, Min: 0, Max: 1 , Unique: [0 1]\n",
      "Variable: X170, Min: 0, Max: 1 , Unique: [1 0]\n",
      "Variable: X171, Min: 0, Max: 1 , Unique: [0 1]\n",
      "Variable: X172, Min: 0, Max: 1 , Unique: [0 1]\n",
      "Variable: X173, Min: 0, Max: 1 , Unique: [0 1]\n",
      "Variable: X174, Min: 0, Max: 1 , Unique: [0 1]\n",
      "Variable: X175, Min: 0, Max: 1 , Unique: [0 1]\n",
      "Variable: X176, Min: 0, Max: 1 , Unique: [0 1]\n",
      "Variable: X177, Min: 0, Max: 1 , Unique: [0 1]\n",
      "Variable: X178, Min: 0, Max: 1 , Unique: [0 1]\n",
      "Variable: X179, Min: 0, Max: 1 , Unique: [1 0]\n",
      "Variable: X180, Min: 0, Max: 1 , Unique: [0 1]\n",
      "Variable: X181, Min: 0, Max: 1 , Unique: [0 1]\n",
      "Variable: X182, Min: 0, Max: 1 , Unique: [0 1]\n",
      "Variable: X183, Min: 0, Max: 1 , Unique: [0 1]\n",
      "Variable: X184, Min: 0, Max: 1 , Unique: [1 0]\n",
      "Variable: X185, Min: 0, Max: 1 , Unique: [0 1]\n",
      "Variable: X186, Min: 0, Max: 1 , Unique: [0 1]\n",
      "Variable: X187, Min: 0, Max: 1 , Unique: [1 0]\n",
      "Variable: X189, Min: 0, Max: 1 , Unique: [1 0]\n",
      "Variable: X190, Min: 0, Max: 1 , Unique: [0 1]\n",
      "Variable: X191, Min: 0, Max: 1 , Unique: [0 1]\n",
      "Variable: X192, Min: 0, Max: 1 , Unique: [0 1]\n",
      "Variable: X194, Min: 0, Max: 1 , Unique: [1 0]\n",
      "Variable: X195, Min: 0, Max: 1 , Unique: [0 1]\n",
      "Variable: X196, Min: 0, Max: 1 , Unique: [0 1]\n",
      "Variable: X197, Min: 0, Max: 1 , Unique: [0 1]\n",
      "Variable: X198, Min: 0, Max: 1 , Unique: [0 1]\n",
      "Variable: X199, Min: 0, Max: 1 , Unique: [0 1]\n",
      "Variable: X200, Min: 0, Max: 1 , Unique: [0 1]\n",
      "Variable: X201, Min: 0, Max: 1 , Unique: [0 1]\n",
      "Variable: X202, Min: 0, Max: 1 , Unique: [0 1]\n",
      "Variable: X203, Min: 0, Max: 1 , Unique: [0 1]\n",
      "Variable: X204, Min: 0, Max: 1 , Unique: [1 0]\n",
      "Variable: X205, Min: 0, Max: 1 , Unique: [0 1]\n"
     ]
    },
    {
     "name": "stdout",
     "output_type": "stream",
     "text": [
      "Variable: X206, Min: 0, Max: 1 , Unique: [0 1]\n",
      "Variable: X207, Min: 0, Max: 1 , Unique: [0 1]\n",
      "Variable: X208, Min: 0, Max: 1 , Unique: [0 1]\n",
      "Variable: X209, Min: 0, Max: 1 , Unique: [1 0]\n",
      "Variable: X210, Min: 0, Max: 1 , Unique: [0 1]\n",
      "Variable: X211, Min: 0, Max: 1 , Unique: [0 1]\n",
      "Variable: X212, Min: 0, Max: 1 , Unique: [0 1]\n",
      "Variable: X213, Min: 0, Max: 1 , Unique: [0 1]\n",
      "Variable: X214, Min: 0, Max: 1 , Unique: [0 1]\n",
      "Variable: X215, Min: 0, Max: 1 , Unique: [0 1]\n",
      "Variable: X216, Min: 0, Max: 1 , Unique: [0 1]\n",
      "Variable: X217, Min: 0, Max: 1 , Unique: [0 1]\n",
      "Variable: X218, Min: 0, Max: 1 , Unique: [0 1]\n",
      "Variable: X219, Min: 0, Max: 1 , Unique: [0 1]\n",
      "Variable: X220, Min: 0, Max: 1 , Unique: [1 0]\n",
      "Variable: X221, Min: 0, Max: 1 , Unique: [0 1]\n",
      "Variable: X222, Min: 0, Max: 1 , Unique: [0 1]\n",
      "Variable: X223, Min: 0, Max: 1 , Unique: [0 1]\n",
      "Variable: X224, Min: 0, Max: 1 , Unique: [0 1]\n",
      "Variable: X225, Min: 0, Max: 1 , Unique: [0 1]\n",
      "Variable: X226, Min: 0, Max: 1 , Unique: [0 1]\n",
      "Variable: X227, Min: 0, Max: 1 , Unique: [0 1]\n",
      "Variable: X228, Min: 0, Max: 1 , Unique: [0 1]\n",
      "Variable: X229, Min: 0, Max: 1 , Unique: [0 1]\n",
      "Variable: X230, Min: 0, Max: 1 , Unique: [0 1]\n",
      "Variable: X231, Min: 0, Max: 1 , Unique: [0 1]\n",
      "Variable: X232, Min: 0, Max: 1 , Unique: [0 1]\n",
      "Variable: X233, Min: 0, Max: 0 , Unique: [0]\n",
      "Variable: X234, Min: 0, Max: 1 , Unique: [1 0]\n",
      "Variable: X235, Min: 0, Max: 0 , Unique: [0]\n",
      "Variable: X236, Min: 0, Max: 1 , Unique: [0 1]\n",
      "Variable: X237, Min: 0, Max: 1 , Unique: [1 0]\n",
      "Variable: X238, Min: 0, Max: 1 , Unique: [0 1]\n",
      "Variable: X239, Min: 0, Max: 1 , Unique: [0 1]\n",
      "Variable: X240, Min: 0, Max: 1 , Unique: [0 1]\n",
      "Variable: X241, Min: 0, Max: 1 , Unique: [0 1]\n",
      "Variable: X242, Min: 0, Max: 1 , Unique: [0 1]\n",
      "Variable: X243, Min: 0, Max: 1 , Unique: [0 1]\n",
      "Variable: X244, Min: 0, Max: 1 , Unique: [0 1]\n",
      "Variable: X245, Min: 0, Max: 1 , Unique: [0 1]\n",
      "Variable: X246, Min: 0, Max: 1 , Unique: [0 1]\n",
      "Variable: X247, Min: 0, Max: 1 , Unique: [0 1]\n",
      "Variable: X248, Min: 0, Max: 1 , Unique: [0 1]\n",
      "Variable: X249, Min: 0, Max: 1 , Unique: [0 1]\n",
      "Variable: X250, Min: 0, Max: 1 , Unique: [0 1]\n",
      "Variable: X251, Min: 0, Max: 1 , Unique: [0 1]\n",
      "Variable: X252, Min: 0, Max: 1 , Unique: [0 1]\n",
      "Variable: X253, Min: 0, Max: 1 , Unique: [0 1]\n",
      "Variable: X254, Min: 0, Max: 1 , Unique: [0 1]\n",
      "Variable: X255, Min: 0, Max: 1 , Unique: [0 1]\n",
      "Variable: X256, Min: 0, Max: 1 , Unique: [0 1]\n",
      "Variable: X257, Min: 0, Max: 1 , Unique: [0 1]\n",
      "Variable: X258, Min: 0, Max: 1 , Unique: [0 1]\n",
      "Variable: X259, Min: 0, Max: 1 , Unique: [0 1]\n",
      "Variable: X260, Min: 0, Max: 1 , Unique: [0 1]\n",
      "Variable: X261, Min: 0, Max: 1 , Unique: [0 1]\n",
      "Variable: X262, Min: 0, Max: 1 , Unique: [1 0]\n",
      "Variable: X263, Min: 0, Max: 1 , Unique: [1 0]\n",
      "Variable: X264, Min: 0, Max: 1 , Unique: [0 1]\n",
      "Variable: X265, Min: 0, Max: 1 , Unique: [0 1]\n",
      "Variable: X266, Min: 0, Max: 1 , Unique: [1 0]\n",
      "Variable: X267, Min: 0, Max: 1 , Unique: [0 1]\n",
      "Variable: X268, Min: 0, Max: 0 , Unique: [0]\n",
      "Variable: X269, Min: 0, Max: 1 , Unique: [0 1]\n",
      "Variable: X270, Min: 0, Max: 1 , Unique: [0 1]\n",
      "Variable: X271, Min: 0, Max: 1 , Unique: [0 1]\n",
      "Variable: X272, Min: 0, Max: 1 , Unique: [0 1]\n",
      "Variable: X273, Min: 0, Max: 1 , Unique: [1 0]\n",
      "Variable: X274, Min: 0, Max: 1 , Unique: [0 1]\n",
      "Variable: X275, Min: 0, Max: 1 , Unique: [1 0]\n",
      "Variable: X276, Min: 0, Max: 1 , Unique: [0 1]\n",
      "Variable: X277, Min: 0, Max: 1 , Unique: [0 1]\n",
      "Variable: X278, Min: 0, Max: 1 , Unique: [0 1]\n",
      "Variable: X279, Min: 0, Max: 1 , Unique: [0 1]\n",
      "Variable: X280, Min: 0, Max: 1 , Unique: [0 1]\n",
      "Variable: X281, Min: 0, Max: 1 , Unique: [0 1]\n",
      "Variable: X282, Min: 0, Max: 1 , Unique: [0 1]\n",
      "Variable: X283, Min: 0, Max: 1 , Unique: [0 1]\n",
      "Variable: X284, Min: 0, Max: 1 , Unique: [0 1]\n",
      "Variable: X285, Min: 0, Max: 1 , Unique: [1 0]\n",
      "Variable: X286, Min: 0, Max: 1 , Unique: [0 1]\n",
      "Variable: X287, Min: 0, Max: 1 , Unique: [0 1]\n",
      "Variable: X288, Min: 0, Max: 1 , Unique: [0 1]\n",
      "Variable: X289, Min: 0, Max: 0 , Unique: [0]\n",
      "Variable: X290, Min: 0, Max: 0 , Unique: [0]\n",
      "Variable: X291, Min: 0, Max: 1 , Unique: [0 1]\n",
      "Variable: X292, Min: 0, Max: 1 , Unique: [0 1]\n",
      "Variable: X293, Min: 0, Max: 0 , Unique: [0]\n",
      "Variable: X294, Min: 0, Max: 1 , Unique: [0 1]\n",
      "Variable: X295, Min: 0, Max: 1 , Unique: [0 1]\n",
      "Variable: X296, Min: 0, Max: 1 , Unique: [0 1]\n",
      "Variable: X297, Min: 0, Max: 0 , Unique: [0]\n",
      "Variable: X298, Min: 0, Max: 1 , Unique: [0 1]\n",
      "Variable: X299, Min: 0, Max: 1 , Unique: [0 1]\n",
      "Variable: X300, Min: 0, Max: 1 , Unique: [0 1]\n",
      "Variable: X301, Min: 0, Max: 1 , Unique: [0 1]\n",
      "Variable: X302, Min: 0, Max: 1 , Unique: [0 1]\n",
      "Variable: X304, Min: 0, Max: 1 , Unique: [0 1]\n",
      "Variable: X305, Min: 0, Max: 1 , Unique: [0 1]\n",
      "Variable: X306, Min: 0, Max: 1 , Unique: [1 0]\n",
      "Variable: X307, Min: 0, Max: 1 , Unique: [0 1]\n",
      "Variable: X308, Min: 0, Max: 1 , Unique: [0 1]\n",
      "Variable: X309, Min: 0, Max: 1 , Unique: [0 1]\n",
      "Variable: X310, Min: 0, Max: 1 , Unique: [0 1]\n",
      "Variable: X311, Min: 0, Max: 1 , Unique: [0 1]\n",
      "Variable: X312, Min: 0, Max: 1 , Unique: [0 1]\n",
      "Variable: X313, Min: 0, Max: 1 , Unique: [0 1]\n",
      "Variable: X314, Min: 0, Max: 1 , Unique: [0 1]\n",
      "Variable: X315, Min: 0, Max: 1 , Unique: [0 1]\n",
      "Variable: X316, Min: 0, Max: 1 , Unique: [1 0]\n",
      "Variable: X317, Min: 0, Max: 1 , Unique: [0 1]\n",
      "Variable: X318, Min: 0, Max: 1 , Unique: [0 1]\n",
      "Variable: X319, Min: 0, Max: 1 , Unique: [0 1]\n",
      "Variable: X320, Min: 0, Max: 1 , Unique: [0 1]\n",
      "Variable: X321, Min: 0, Max: 1 , Unique: [0 1]\n",
      "Variable: X322, Min: 0, Max: 1 , Unique: [0 1]\n",
      "Variable: X323, Min: 0, Max: 1 , Unique: [0 1]\n",
      "Variable: X324, Min: 0, Max: 1 , Unique: [1 0]\n",
      "Variable: X325, Min: 0, Max: 1 , Unique: [0 1]\n",
      "Variable: X326, Min: 0, Max: 1 , Unique: [0 1]\n",
      "Variable: X327, Min: 0, Max: 1 , Unique: [1 0]\n",
      "Variable: X328, Min: 0, Max: 1 , Unique: [0 1]\n",
      "Variable: X329, Min: 0, Max: 1 , Unique: [1 0]\n",
      "Variable: X330, Min: 0, Max: 0 , Unique: [0]\n",
      "Variable: X331, Min: 0, Max: 1 , Unique: [0 1]\n",
      "Variable: X332, Min: 0, Max: 1 , Unique: [0 1]\n",
      "Variable: X333, Min: 0, Max: 1 , Unique: [0 1]\n",
      "Variable: X334, Min: 0, Max: 1 , Unique: [1 0]\n",
      "Variable: X335, Min: 0, Max: 1 , Unique: [0 1]\n",
      "Variable: X336, Min: 0, Max: 1 , Unique: [0 1]\n",
      "Variable: X337, Min: 0, Max: 1 , Unique: [0 1]\n",
      "Variable: X338, Min: 0, Max: 1 , Unique: [0 1]\n",
      "Variable: X339, Min: 0, Max: 1 , Unique: [0 1]\n",
      "Variable: X340, Min: 0, Max: 1 , Unique: [0 1]\n",
      "Variable: X341, Min: 0, Max: 1 , Unique: [0 1]\n",
      "Variable: X342, Min: 0, Max: 1 , Unique: [0 1]\n",
      "Variable: X343, Min: 0, Max: 1 , Unique: [0 1]\n",
      "Variable: X344, Min: 0, Max: 1 , Unique: [0 1]\n",
      "Variable: X345, Min: 0, Max: 1 , Unique: [0 1]\n",
      "Variable: X346, Min: 0, Max: 1 , Unique: [0 1]\n",
      "Variable: X347, Min: 0, Max: 0 , Unique: [0]\n",
      "Variable: X348, Min: 0, Max: 1 , Unique: [0 1]\n",
      "Variable: X349, Min: 0, Max: 1 , Unique: [0 1]\n",
      "Variable: X350, Min: 0, Max: 1 , Unique: [0 1]\n",
      "Variable: X351, Min: 0, Max: 1 , Unique: [0 1]\n",
      "Variable: X352, Min: 0, Max: 1 , Unique: [0 1]\n",
      "Variable: X353, Min: 0, Max: 1 , Unique: [0 1]\n",
      "Variable: X354, Min: 0, Max: 1 , Unique: [1 0]\n",
      "Variable: X355, Min: 0, Max: 1 , Unique: [0 1]\n",
      "Variable: X356, Min: 0, Max: 1 , Unique: [0 1]\n",
      "Variable: X357, Min: 0, Max: 1 , Unique: [0 1]\n",
      "Variable: X358, Min: 0, Max: 1 , Unique: [0 1]\n",
      "Variable: X359, Min: 0, Max: 1 , Unique: [0 1]\n",
      "Variable: X360, Min: 0, Max: 1 , Unique: [0 1]\n",
      "Variable: X361, Min: 0, Max: 1 , Unique: [1 0]\n",
      "Variable: X362, Min: 0, Max: 1 , Unique: [0 1]\n",
      "Variable: X363, Min: 0, Max: 1 , Unique: [0 1]\n",
      "Variable: X364, Min: 0, Max: 1 , Unique: [0 1]\n",
      "Variable: X365, Min: 0, Max: 1 , Unique: [0 1]\n",
      "Variable: X366, Min: 0, Max: 1 , Unique: [0 1]\n",
      "Variable: X367, Min: 0, Max: 1 , Unique: [0 1]\n",
      "Variable: X368, Min: 0, Max: 1 , Unique: [0 1]\n",
      "Variable: X369, Min: 0, Max: 1 , Unique: [0 1]\n",
      "Variable: X370, Min: 0, Max: 1 , Unique: [0 1]\n",
      "Variable: X371, Min: 0, Max: 1 , Unique: [0 1]\n",
      "Variable: X372, Min: 0, Max: 1 , Unique: [0 1]\n",
      "Variable: X373, Min: 0, Max: 1 , Unique: [0 1]\n",
      "Variable: X374, Min: 0, Max: 1 , Unique: [0 1]\n",
      "Variable: X375, Min: 0, Max: 1 , Unique: [0 1]\n",
      "Variable: X376, Min: 0, Max: 1 , Unique: [0 1]\n",
      "Variable: X377, Min: 0, Max: 1 , Unique: [1 0]\n",
      "Variable: X378, Min: 0, Max: 1 , Unique: [0 1]\n",
      "Variable: X379, Min: 0, Max: 1 , Unique: [0 1]\n",
      "Variable: X380, Min: 0, Max: 1 , Unique: [0 1]\n",
      "Variable: X382, Min: 0, Max: 1 , Unique: [0 1]\n",
      "Variable: X383, Min: 0, Max: 1 , Unique: [0 1]\n",
      "Variable: X384, Min: 0, Max: 1 , Unique: [0 1]\n",
      "Variable: X385, Min: 0, Max: 1 , Unique: [0 1]\n"
     ]
    }
   ],
   "source": [
    "drop = []\n",
    "binarys = []\n",
    "for i in tp_int:\n",
    "    print('Variable: {}, Min: {}, Max: {} , Unique: {}'.format(i, data[i].min(), data[i].max() ,data[i].unique()))\n",
    "    if data[i].max() == 0:\n",
    "        drop.append(i)\n",
    "    elif data[i].max() == 1 and data[i].min() == 0 and len(data[i].unique()) == 2:\n",
    "        binarys.append(i)\n",
    "    else:\n",
    "        pass "
   ]
  },
  {
   "cell_type": "code",
   "execution_count": 192,
   "metadata": {},
   "outputs": [
    {
     "name": "stdout",
     "output_type": "stream",
     "text": [
      "Variables only with 0: ['X11', 'X93', 'X107', 'X233', 'X235', 'X268', 'X289', 'X290', 'X293', 'X297', 'X330', 'X347']\n",
      "All other integer variables are binary\n"
     ]
    }
   ],
   "source": [
    "print('Variables only with 0:', drop)\n",
    "\n",
    "if len(drop) + len(binarys) == len(tp_int):\n",
    "    print('All other integer variables are binary')"
   ]
  },
  {
   "cell_type": "code",
   "execution_count": 193,
   "metadata": {
    "collapsed": true
   },
   "outputs": [],
   "source": [
    "#Dropping variables only with zero\n",
    "data = data.drop(drop, axis = 1)"
   ]
  },
  {
   "cell_type": "markdown",
   "metadata": {},
   "source": [
    "# One hot enconding"
   ]
  },
  {
   "cell_type": "code",
   "execution_count": 194,
   "metadata": {},
   "outputs": [
    {
     "data": {
      "text/html": [
       "<div>\n",
       "<style>\n",
       "    .dataframe thead tr:only-child th {\n",
       "        text-align: right;\n",
       "    }\n",
       "\n",
       "    .dataframe thead th {\n",
       "        text-align: left;\n",
       "    }\n",
       "\n",
       "    .dataframe tbody tr th {\n",
       "        vertical-align: top;\n",
       "    }\n",
       "</style>\n",
       "<table border=\"1\" class=\"dataframe\">\n",
       "  <thead>\n",
       "    <tr style=\"text-align: right;\">\n",
       "      <th></th>\n",
       "      <th>ID</th>\n",
       "      <th>y</th>\n",
       "      <th>X10</th>\n",
       "      <th>X12</th>\n",
       "      <th>X13</th>\n",
       "      <th>X14</th>\n",
       "      <th>X15</th>\n",
       "      <th>X16</th>\n",
       "      <th>X17</th>\n",
       "      <th>X18</th>\n",
       "      <th>...</th>\n",
       "      <th>X8_p</th>\n",
       "      <th>X8_q</th>\n",
       "      <th>X8_r</th>\n",
       "      <th>X8_s</th>\n",
       "      <th>X8_t</th>\n",
       "      <th>X8_u</th>\n",
       "      <th>X8_v</th>\n",
       "      <th>X8_w</th>\n",
       "      <th>X8_x</th>\n",
       "      <th>X8_y</th>\n",
       "    </tr>\n",
       "  </thead>\n",
       "  <tbody>\n",
       "    <tr>\n",
       "      <th>0</th>\n",
       "      <td>0</td>\n",
       "      <td>130.81</td>\n",
       "      <td>0</td>\n",
       "      <td>0</td>\n",
       "      <td>1</td>\n",
       "      <td>0</td>\n",
       "      <td>0</td>\n",
       "      <td>0</td>\n",
       "      <td>0</td>\n",
       "      <td>1</td>\n",
       "      <td>...</td>\n",
       "      <td>0</td>\n",
       "      <td>0</td>\n",
       "      <td>0</td>\n",
       "      <td>0</td>\n",
       "      <td>0</td>\n",
       "      <td>0</td>\n",
       "      <td>0</td>\n",
       "      <td>0</td>\n",
       "      <td>0</td>\n",
       "      <td>0</td>\n",
       "    </tr>\n",
       "    <tr>\n",
       "      <th>1</th>\n",
       "      <td>6</td>\n",
       "      <td>88.53</td>\n",
       "      <td>0</td>\n",
       "      <td>0</td>\n",
       "      <td>0</td>\n",
       "      <td>0</td>\n",
       "      <td>0</td>\n",
       "      <td>0</td>\n",
       "      <td>0</td>\n",
       "      <td>1</td>\n",
       "      <td>...</td>\n",
       "      <td>0</td>\n",
       "      <td>0</td>\n",
       "      <td>0</td>\n",
       "      <td>0</td>\n",
       "      <td>0</td>\n",
       "      <td>0</td>\n",
       "      <td>0</td>\n",
       "      <td>0</td>\n",
       "      <td>0</td>\n",
       "      <td>0</td>\n",
       "    </tr>\n",
       "    <tr>\n",
       "      <th>2</th>\n",
       "      <td>7</td>\n",
       "      <td>76.26</td>\n",
       "      <td>0</td>\n",
       "      <td>0</td>\n",
       "      <td>0</td>\n",
       "      <td>0</td>\n",
       "      <td>0</td>\n",
       "      <td>0</td>\n",
       "      <td>1</td>\n",
       "      <td>0</td>\n",
       "      <td>...</td>\n",
       "      <td>0</td>\n",
       "      <td>0</td>\n",
       "      <td>0</td>\n",
       "      <td>0</td>\n",
       "      <td>0</td>\n",
       "      <td>0</td>\n",
       "      <td>0</td>\n",
       "      <td>0</td>\n",
       "      <td>1</td>\n",
       "      <td>0</td>\n",
       "    </tr>\n",
       "    <tr>\n",
       "      <th>3</th>\n",
       "      <td>9</td>\n",
       "      <td>80.62</td>\n",
       "      <td>0</td>\n",
       "      <td>0</td>\n",
       "      <td>0</td>\n",
       "      <td>0</td>\n",
       "      <td>0</td>\n",
       "      <td>0</td>\n",
       "      <td>0</td>\n",
       "      <td>0</td>\n",
       "      <td>...</td>\n",
       "      <td>0</td>\n",
       "      <td>0</td>\n",
       "      <td>0</td>\n",
       "      <td>0</td>\n",
       "      <td>0</td>\n",
       "      <td>0</td>\n",
       "      <td>0</td>\n",
       "      <td>0</td>\n",
       "      <td>0</td>\n",
       "      <td>0</td>\n",
       "    </tr>\n",
       "    <tr>\n",
       "      <th>4</th>\n",
       "      <td>13</td>\n",
       "      <td>78.02</td>\n",
       "      <td>0</td>\n",
       "      <td>0</td>\n",
       "      <td>0</td>\n",
       "      <td>0</td>\n",
       "      <td>0</td>\n",
       "      <td>0</td>\n",
       "      <td>0</td>\n",
       "      <td>0</td>\n",
       "      <td>...</td>\n",
       "      <td>0</td>\n",
       "      <td>0</td>\n",
       "      <td>0</td>\n",
       "      <td>0</td>\n",
       "      <td>0</td>\n",
       "      <td>0</td>\n",
       "      <td>0</td>\n",
       "      <td>0</td>\n",
       "      <td>0</td>\n",
       "      <td>0</td>\n",
       "    </tr>\n",
       "  </tbody>\n",
       "</table>\n",
       "<p>5 rows × 553 columns</p>\n",
       "</div>"
      ],
      "text/plain": [
       "   ID       y  X10  X12  X13  X14  X15  X16  X17  X18  ...   X8_p  X8_q  X8_r  \\\n",
       "0   0  130.81    0    0    1    0    0    0    0    1  ...      0     0     0   \n",
       "1   6   88.53    0    0    0    0    0    0    0    1  ...      0     0     0   \n",
       "2   7   76.26    0    0    0    0    0    0    1    0  ...      0     0     0   \n",
       "3   9   80.62    0    0    0    0    0    0    0    0  ...      0     0     0   \n",
       "4  13   78.02    0    0    0    0    0    0    0    0  ...      0     0     0   \n",
       "\n",
       "   X8_s  X8_t  X8_u  X8_v  X8_w  X8_x  X8_y  \n",
       "0     0     0     0     0     0     0     0  \n",
       "1     0     0     0     0     0     0     0  \n",
       "2     0     0     0     0     0     1     0  \n",
       "3     0     0     0     0     0     0     0  \n",
       "4     0     0     0     0     0     0     0  \n",
       "\n",
       "[5 rows x 553 columns]"
      ]
     },
     "execution_count": 194,
     "metadata": {},
     "output_type": "execute_result"
    }
   ],
   "source": [
    "#Best way to work with categorical variables? I don't think is the best in all case. I will study about that\n",
    "\n",
    "for each in tp_obj:\n",
    "    dummies = pd.get_dummies(data[each], prefix=each, drop_first=False)\n",
    "    data = pd.concat([data, dummies], axis=1)\n",
    "\n",
    "data = data.drop(tp_obj, axis=1)\n",
    "data.head()"
   ]
  },
  {
   "cell_type": "markdown",
   "metadata": {},
   "source": [
    "# Test Data"
   ]
  },
  {
   "cell_type": "code",
   "execution_count": 195,
   "metadata": {
    "collapsed": true
   },
   "outputs": [],
   "source": [
    "data_test = pd.read_csv(os.path.join(datapath,test_csv))"
   ]
  },
  {
   "cell_type": "code",
   "execution_count": 196,
   "metadata": {
    "collapsed": true
   },
   "outputs": [],
   "source": [
    "#Dropping variables only with zero\n",
    "data_test = data_test.drop(drop, axis = 1)"
   ]
  },
  {
   "cell_type": "code",
   "execution_count": 197,
   "metadata": {},
   "outputs": [
    {
     "data": {
      "text/html": [
       "<div>\n",
       "<style>\n",
       "    .dataframe thead tr:only-child th {\n",
       "        text-align: right;\n",
       "    }\n",
       "\n",
       "    .dataframe thead th {\n",
       "        text-align: left;\n",
       "    }\n",
       "\n",
       "    .dataframe tbody tr th {\n",
       "        vertical-align: top;\n",
       "    }\n",
       "</style>\n",
       "<table border=\"1\" class=\"dataframe\">\n",
       "  <thead>\n",
       "    <tr style=\"text-align: right;\">\n",
       "      <th></th>\n",
       "      <th>ID</th>\n",
       "      <th>X10</th>\n",
       "      <th>X12</th>\n",
       "      <th>X13</th>\n",
       "      <th>X14</th>\n",
       "      <th>X15</th>\n",
       "      <th>X16</th>\n",
       "      <th>X17</th>\n",
       "      <th>X18</th>\n",
       "      <th>X19</th>\n",
       "      <th>...</th>\n",
       "      <th>X8_p</th>\n",
       "      <th>X8_q</th>\n",
       "      <th>X8_r</th>\n",
       "      <th>X8_s</th>\n",
       "      <th>X8_t</th>\n",
       "      <th>X8_u</th>\n",
       "      <th>X8_v</th>\n",
       "      <th>X8_w</th>\n",
       "      <th>X8_x</th>\n",
       "      <th>X8_y</th>\n",
       "    </tr>\n",
       "  </thead>\n",
       "  <tbody>\n",
       "    <tr>\n",
       "      <th>0</th>\n",
       "      <td>1</td>\n",
       "      <td>0</td>\n",
       "      <td>0</td>\n",
       "      <td>0</td>\n",
       "      <td>0</td>\n",
       "      <td>0</td>\n",
       "      <td>0</td>\n",
       "      <td>0</td>\n",
       "      <td>0</td>\n",
       "      <td>0</td>\n",
       "      <td>...</td>\n",
       "      <td>0</td>\n",
       "      <td>0</td>\n",
       "      <td>0</td>\n",
       "      <td>0</td>\n",
       "      <td>0</td>\n",
       "      <td>0</td>\n",
       "      <td>0</td>\n",
       "      <td>1</td>\n",
       "      <td>0</td>\n",
       "      <td>0</td>\n",
       "    </tr>\n",
       "    <tr>\n",
       "      <th>1</th>\n",
       "      <td>2</td>\n",
       "      <td>0</td>\n",
       "      <td>0</td>\n",
       "      <td>0</td>\n",
       "      <td>0</td>\n",
       "      <td>0</td>\n",
       "      <td>0</td>\n",
       "      <td>0</td>\n",
       "      <td>0</td>\n",
       "      <td>1</td>\n",
       "      <td>...</td>\n",
       "      <td>0</td>\n",
       "      <td>0</td>\n",
       "      <td>0</td>\n",
       "      <td>0</td>\n",
       "      <td>0</td>\n",
       "      <td>0</td>\n",
       "      <td>0</td>\n",
       "      <td>0</td>\n",
       "      <td>0</td>\n",
       "      <td>1</td>\n",
       "    </tr>\n",
       "    <tr>\n",
       "      <th>2</th>\n",
       "      <td>3</td>\n",
       "      <td>0</td>\n",
       "      <td>0</td>\n",
       "      <td>0</td>\n",
       "      <td>1</td>\n",
       "      <td>0</td>\n",
       "      <td>0</td>\n",
       "      <td>0</td>\n",
       "      <td>0</td>\n",
       "      <td>0</td>\n",
       "      <td>...</td>\n",
       "      <td>0</td>\n",
       "      <td>0</td>\n",
       "      <td>0</td>\n",
       "      <td>0</td>\n",
       "      <td>0</td>\n",
       "      <td>0</td>\n",
       "      <td>0</td>\n",
       "      <td>0</td>\n",
       "      <td>0</td>\n",
       "      <td>0</td>\n",
       "    </tr>\n",
       "    <tr>\n",
       "      <th>3</th>\n",
       "      <td>4</td>\n",
       "      <td>0</td>\n",
       "      <td>0</td>\n",
       "      <td>0</td>\n",
       "      <td>0</td>\n",
       "      <td>0</td>\n",
       "      <td>0</td>\n",
       "      <td>0</td>\n",
       "      <td>0</td>\n",
       "      <td>0</td>\n",
       "      <td>...</td>\n",
       "      <td>0</td>\n",
       "      <td>0</td>\n",
       "      <td>0</td>\n",
       "      <td>0</td>\n",
       "      <td>0</td>\n",
       "      <td>0</td>\n",
       "      <td>0</td>\n",
       "      <td>0</td>\n",
       "      <td>0</td>\n",
       "      <td>0</td>\n",
       "    </tr>\n",
       "    <tr>\n",
       "      <th>4</th>\n",
       "      <td>5</td>\n",
       "      <td>0</td>\n",
       "      <td>0</td>\n",
       "      <td>0</td>\n",
       "      <td>1</td>\n",
       "      <td>0</td>\n",
       "      <td>0</td>\n",
       "      <td>0</td>\n",
       "      <td>0</td>\n",
       "      <td>0</td>\n",
       "      <td>...</td>\n",
       "      <td>0</td>\n",
       "      <td>0</td>\n",
       "      <td>0</td>\n",
       "      <td>0</td>\n",
       "      <td>0</td>\n",
       "      <td>0</td>\n",
       "      <td>0</td>\n",
       "      <td>0</td>\n",
       "      <td>0</td>\n",
       "      <td>0</td>\n",
       "    </tr>\n",
       "  </tbody>\n",
       "</table>\n",
       "<p>5 rows × 558 columns</p>\n",
       "</div>"
      ],
      "text/plain": [
       "   ID  X10  X12  X13  X14  X15  X16  X17  X18  X19  ...   X8_p  X8_q  X8_r  \\\n",
       "0   1    0    0    0    0    0    0    0    0    0  ...      0     0     0   \n",
       "1   2    0    0    0    0    0    0    0    0    1  ...      0     0     0   \n",
       "2   3    0    0    0    1    0    0    0    0    0  ...      0     0     0   \n",
       "3   4    0    0    0    0    0    0    0    0    0  ...      0     0     0   \n",
       "4   5    0    0    0    1    0    0    0    0    0  ...      0     0     0   \n",
       "\n",
       "   X8_s  X8_t  X8_u  X8_v  X8_w  X8_x  X8_y  \n",
       "0     0     0     0     0     1     0     0  \n",
       "1     0     0     0     0     0     0     1  \n",
       "2     0     0     0     0     0     0     0  \n",
       "3     0     0     0     0     0     0     0  \n",
       "4     0     0     0     0     0     0     0  \n",
       "\n",
       "[5 rows x 558 columns]"
      ]
     },
     "execution_count": 197,
     "metadata": {},
     "output_type": "execute_result"
    }
   ],
   "source": [
    "for each in tp_obj:\n",
    "    dummies = pd.get_dummies(data_test[each], prefix=each, drop_first=False)\n",
    "    data_test = pd.concat([data_test, dummies], axis=1)\n",
    "\n",
    "data_test = data_test.drop(tp_obj, axis=1)\n",
    "data_test.head()"
   ]
  },
  {
   "cell_type": "markdown",
   "metadata": {},
   "source": [
    "# Keeping only columns who are in both data sets"
   ]
  },
  {
   "cell_type": "code",
   "execution_count": 198,
   "metadata": {
    "collapsed": true
   },
   "outputs": [],
   "source": [
    "keep = np.intersect1d(data.columns.to_series(), data_test.columns.to_series())"
   ]
  },
  {
   "cell_type": "code",
   "execution_count": 199,
   "metadata": {
    "collapsed": true
   },
   "outputs": [],
   "source": [
    "data = data[np.append(keep,'y')]"
   ]
  },
  {
   "cell_type": "code",
   "execution_count": 200,
   "metadata": {
    "collapsed": true
   },
   "outputs": [],
   "source": [
    "data_test = data_test[keep]"
   ]
  },
  {
   "cell_type": "markdown",
   "metadata": {},
   "source": [
    "# Join Train and Test"
   ]
  },
  {
   "cell_type": "code",
   "execution_count": 201,
   "metadata": {
    "collapsed": true
   },
   "outputs": [],
   "source": [
    "len_train = len(data)\n",
    "len_test = len(data_test)\n",
    "\n",
    "data_all = pd.concat([data.drop(['y'],axis=1),data_test])\n"
   ]
  },
  {
   "cell_type": "code",
   "execution_count": 202,
   "metadata": {},
   "outputs": [
    {
     "name": "stdout",
     "output_type": "stream",
     "text": [
      "4209\n",
      "4209\n",
      "8418\n"
     ]
    }
   ],
   "source": [
    "print(len_train)\n",
    "print(len_test)\n",
    "print(len(data_all))"
   ]
  },
  {
   "cell_type": "markdown",
   "metadata": {},
   "source": [
    "# PCA, ICA, Clustering, etc"
   ]
  },
  {
   "cell_type": "code",
   "execution_count": 203,
   "metadata": {},
   "outputs": [
    {
     "name": "stderr",
     "output_type": "stream",
     "text": [
      "/usr/local/lib/python3.5/dist-packages/sklearn/decomposition/fastica_.py:116: UserWarning: FastICA did not converge. Consider increasing tolerance or the maximum number of iterations.\n",
      "  warnings.warn('FastICA did not converge. Consider increasing '\n"
     ]
    }
   ],
   "source": [
    "## Got this from https://www.kaggle.com/frednavruzov/baselines-to-start-with-lb-0-56\n",
    "## https://www.kaggle.com/linux18/kernel-0-5686/output\n",
    "\n",
    "from sklearn.decomposition import PCA, FastICA\n",
    "from sklearn.random_projection import GaussianRandomProjection\n",
    "from sklearn.random_projection import SparseRandomProjection\n",
    "from sklearn.decomposition import TruncatedSVD\n",
    "\n",
    "n_comp = 10\n",
    "\n",
    "# PCA\n",
    "pca = PCA(n_components=n_comp, random_state=42)\n",
    "pca2_results = pca.fit_transform(data_all.drop([\"ID\"], axis=1))\n",
    "\n",
    "# ICA\n",
    "ica = FastICA(n_components=n_comp, random_state=42)\n",
    "ica2_results = ica.fit_transform(data_all.drop([\"ID\"], axis=1))\n",
    "\n",
    "# tSVD\n",
    "tsvd = TruncatedSVD(n_components=n_comp, random_state=420)\n",
    "tsvd_results = tsvd.fit_transform(data_all.drop([\"ID\"], axis=1))\n",
    "\n",
    "# GRP\n",
    "grp = GaussianRandomProjection(n_components=n_comp, eps=0.1, random_state=420)\n",
    "grp_results = grp.fit_transform(data_all.drop([\"ID\"], axis=1))\n",
    "\n",
    "# SRP\n",
    "srp = SparseRandomProjection(n_components=n_comp, dense_output=True, random_state=420)\n",
    "srp_results = srp.fit_transform(data_all.drop([\"ID\"], axis=1))\n",
    "\n"
   ]
  },
  {
   "cell_type": "code",
   "execution_count": 204,
   "metadata": {},
   "outputs": [],
   "source": [
    "#Still doing this\n",
    "\n",
    "from sklearn import cluster\n",
    "\n",
    "from scipy.spatial import distance\n",
    "from sklearn import metrics\n",
    "\n",
    "# Doing DBSCAN\n",
    "#D = distance.squareform(distance.pdist(data_all.drop([\"ID\"],axis=1), metric = 'hamming'))\n",
    "D = distance.squareform(distance.pdist(data_all.drop([\"ID\"],axis=1)))\n",
    "\n",
    "S = 1 - (D / np.max(D))\n",
    "\n",
    "#Chosen to get 5-15 clusters. Getting 9 currently (label=-1 is \"noise\").\n",
    "eps = 1\n",
    "min_samples = 40\n",
    "\n",
    "#db = cluster.DBSCAN(eps = 100000,min_samples=100,n_jobs=-1).fit(data.drop([\"ID\"],axis=1))\n",
    "db = cluster.DBSCAN(eps = eps,min_samples=min_samples,n_jobs=-1).fit(S)\n",
    "core_samples = db.core_sample_indices_\n",
    "labels = db.labels_"
   ]
  },
  {
   "cell_type": "code",
   "execution_count": 205,
   "metadata": {},
   "outputs": [
    {
     "name": "stdout",
     "output_type": "stream",
     "text": [
      "[-1 -1 -1 ..., -1 -1 -1]\n",
      "8418\n",
      "[  52   97  260  271  297  373  529  608  633  637  648  694  710  726  761\n",
      "  827  911  917  921  922  929  938  943  948  961 1017 1018 1068 1089 1105\n",
      " 1110 1114 1122 1128 1133 1137 1161 1162 1176 1183 1199 1230 1249 1281 1286\n",
      " 1317 1338 1380 1397 1398 1410 1412 1449 1458 1516 1518 1530 1553 1557 1586\n",
      " 1592 1608 1612 1622 1635 1649 1676 1805 1836 1841 1863 1876 1883 1911 1951\n",
      " 1952 1984 1995 2003 2020 2056 2064 2098 2126 2138 2153 2159 2187 2201 2213\n",
      " 2297 2335 2348 2371 2384 2401 2403 2407 2410 2414 2415 2429 2430 2458 2463\n",
      " 2464 2495 2508 2519 2521 2548 2549 2558 2572 2618 2624 2625 2648 2683 2735\n",
      " 2754 2762 2779 2792 2861 2959 2987 3005 3013 3014 3018 3028 3034 3048 3101\n",
      " 3111 3162 3169 3177 3233 3284 3293 3383 3397 3400 3429 3441 3447 3493 3514\n",
      " 3519 3526 3531 3580 3583 3604 3662 3682 3693 3705 3737 3778 3783 3864 3890\n",
      " 3893 3904 3909 3967 4010 4011 4032 4058 4071 4124 4165 4202 4217 4219 4225\n",
      " 4302 4324 4327 4332 4344 4357 4388 4443 4496 4566 4582 4606 4672 4703 4779\n",
      " 4798 4962 4998 5000 5007 5045 5075 5091 5151 5169 5180 5187 5206 5227 5238\n",
      " 5253 5273 5275 5283 5291 5331 5342 5347 5355 5365 5369 5430 5440 5443 5446\n",
      " 5452 5491 5619 5642 5647 5666 5698 5709 5719 5733 5736 5746 5758 5769 5804\n",
      " 5812 5818 5850 5857 5859 5881 5890 5891 5921 5928 5995 5998 6096 6103 6111\n",
      " 6118 6126 6127 6155 6281 6298 6310 6319 6330 6331 6366 6427 6439 6469 6480\n",
      " 6504 6522 6526 6533 6559 6566 6589 6603 6613 6635 6670 6676 6684 6690 6707\n",
      " 6712 6716 6728 6739 6754 6775 6781 6814 6824 6830 6845 6853 6873 6895 6921\n",
      " 6953 7009 7011 7040 7049 7113 7161 7229 7244 7250 7251 7258 7259 7264 7266\n",
      " 7274 7276 7326 7366 7414 7427 7483 7507 7510 7520 7544 7561 7576 7598 7610\n",
      " 7661 7668 7676 7677 7695 7720 7761 7765 7790 7827 7840 7856 7899 7920 7929\n",
      " 7958 8011 8064 8119 8125 8192 8196 8213 8217 8229 8276 8305 8346 8365 8410]\n",
      "9\n"
     ]
    }
   ],
   "source": [
    "print(labels)\n",
    "print(len(labels))\n",
    "print(core_samples)\n",
    "\n",
    "n_clusters_ = len(set(labels)) - (1 if -1 in labels else 0)\n",
    "\n",
    "print(n_clusters_)\n",
    "\n"
   ]
  },
  {
   "cell_type": "code",
   "execution_count": 206,
   "metadata": {
    "collapsed": true
   },
   "outputs": [],
   "source": [
    "# Append decomposition components to datasets\n",
    "for i in range(1, n_comp+1):\n",
    "    data_all['pca_' + str(i)] = pca2_results[:,i-1]\n",
    "    \n",
    "    data_all['ica_' + str(i)] = ica2_results[:,i-1]\n",
    "    \n",
    "    \n",
    "    data_all['tsvd_' + str(i)] = tsvd_results[:,i-1]\n",
    "\n",
    "    data_all['grp_' + str(i)] = grp_results[:,i-1]\n",
    "\n",
    "    data_all['srp_' + str(i)] = srp_results[:,i-1]\n",
    "\n",
    "data_all['cluster'] = labels\n",
    "# Append cluters to datasets"
   ]
  },
  {
   "cell_type": "code",
   "execution_count": 207,
   "metadata": {
    "collapsed": true
   },
   "outputs": [],
   "source": [
    "#The guy in the link is only adding new colunms. I think this doesnt make sense (and barely changed the result). \n",
    "\n",
    "#I also created more PCA/ICA features than just 10\n",
    "\n",
    "#data = data.drop(labels = pca_drop, axis = 1)\n",
    "#data_test = data_test.drop(labels = pca_drop, axis = 1)\n",
    "\n",
    "#print(data.head())\n",
    "#print(data_test.head())\n",
    "\n",
    "#This got worse results\n"
   ]
  },
  {
   "cell_type": "code",
   "execution_count": 208,
   "metadata": {},
   "outputs": [
    {
     "name": "stdout",
     "output_type": "stream",
     "text": [
      "   ID  X0_a  X0_ad  X0_af  X0_ai  X0_aj  X0_ak  X0_al  X0_am  X0_ao   ...     \\\n",
      "0   0     0      0      0      0      0      0      0      0      0   ...      \n",
      "1   6     0      0      0      0      0      0      0      0      0   ...      \n",
      "2   7     0      0      0      0      0      0      0      0      0   ...      \n",
      "3   9     0      0      0      0      0      0      0      0      0   ...      \n",
      "4  13     0      0      0      0      0      0      0      0      0   ...      \n",
      "\n",
      "      ica_9    tsvd_9     grp_9     srp_9    pca_10    ica_10   tsvd_10  \\\n",
      "0  0.006600  0.614259  1.666618  0.000000 -0.298623 -0.019325  0.170974   \n",
      "1  0.005459  0.750283  0.498245  1.525103  0.610756  0.002209 -0.088325   \n",
      "2 -0.000203 -0.344924 -2.278078  0.000000 -0.298661 -0.011307 -1.098066   \n",
      "3  0.000465  0.399228 -3.151707  1.525103  0.128562 -0.002679 -1.400843   \n",
      "4 -0.000757  0.155938 -4.238580  1.525103 -0.365441 -0.000968 -1.992382   \n",
      "\n",
      "     grp_10    srp_10  cluster  \n",
      "0  3.441077  0.000000       -1  \n",
      "1  3.804237  0.000000       -1  \n",
      "2  4.337093 -3.050207       -1  \n",
      "3  4.861759 -1.525103       -1  \n",
      "4  4.932720 -3.050207       -1  \n",
      "\n",
      "[5 rows x 593 columns]\n"
     ]
    },
    {
     "data": {
      "text/plain": [
       "8418"
      ]
     },
     "execution_count": 208,
     "metadata": {},
     "output_type": "execute_result"
    }
   ],
   "source": [
    "print(data_all.head())\n",
    "len(data_all)"
   ]
  },
  {
   "cell_type": "markdown",
   "metadata": {},
   "source": [
    "# One Hot Enconding... In the clusters!"
   ]
  },
  {
   "cell_type": "code",
   "execution_count": 209,
   "metadata": {},
   "outputs": [
    {
     "data": {
      "text/html": [
       "<div>\n",
       "<style>\n",
       "    .dataframe thead tr:only-child th {\n",
       "        text-align: right;\n",
       "    }\n",
       "\n",
       "    .dataframe thead th {\n",
       "        text-align: left;\n",
       "    }\n",
       "\n",
       "    .dataframe tbody tr th {\n",
       "        vertical-align: top;\n",
       "    }\n",
       "</style>\n",
       "<table border=\"1\" class=\"dataframe\">\n",
       "  <thead>\n",
       "    <tr style=\"text-align: right;\">\n",
       "      <th></th>\n",
       "      <th>ID</th>\n",
       "      <th>X0_a</th>\n",
       "      <th>X0_ad</th>\n",
       "      <th>X0_af</th>\n",
       "      <th>X0_ai</th>\n",
       "      <th>X0_aj</th>\n",
       "      <th>X0_ak</th>\n",
       "      <th>X0_al</th>\n",
       "      <th>X0_am</th>\n",
       "      <th>X0_ao</th>\n",
       "      <th>...</th>\n",
       "      <th>ica_9</th>\n",
       "      <th>tsvd_9</th>\n",
       "      <th>grp_9</th>\n",
       "      <th>srp_9</th>\n",
       "      <th>pca_10</th>\n",
       "      <th>ica_10</th>\n",
       "      <th>tsvd_10</th>\n",
       "      <th>grp_10</th>\n",
       "      <th>srp_10</th>\n",
       "      <th>cluster</th>\n",
       "    </tr>\n",
       "  </thead>\n",
       "  <tbody>\n",
       "    <tr>\n",
       "      <th>0</th>\n",
       "      <td>0</td>\n",
       "      <td>0</td>\n",
       "      <td>0</td>\n",
       "      <td>0</td>\n",
       "      <td>0</td>\n",
       "      <td>0</td>\n",
       "      <td>0</td>\n",
       "      <td>0</td>\n",
       "      <td>0</td>\n",
       "      <td>0</td>\n",
       "      <td>...</td>\n",
       "      <td>0.006600</td>\n",
       "      <td>0.614259</td>\n",
       "      <td>1.666618</td>\n",
       "      <td>0.000000</td>\n",
       "      <td>-0.298623</td>\n",
       "      <td>-0.019325</td>\n",
       "      <td>0.170974</td>\n",
       "      <td>3.441077</td>\n",
       "      <td>0.000000</td>\n",
       "      <td>-1</td>\n",
       "    </tr>\n",
       "    <tr>\n",
       "      <th>1</th>\n",
       "      <td>6</td>\n",
       "      <td>0</td>\n",
       "      <td>0</td>\n",
       "      <td>0</td>\n",
       "      <td>0</td>\n",
       "      <td>0</td>\n",
       "      <td>0</td>\n",
       "      <td>0</td>\n",
       "      <td>0</td>\n",
       "      <td>0</td>\n",
       "      <td>...</td>\n",
       "      <td>0.005459</td>\n",
       "      <td>0.750283</td>\n",
       "      <td>0.498245</td>\n",
       "      <td>1.525103</td>\n",
       "      <td>0.610756</td>\n",
       "      <td>0.002209</td>\n",
       "      <td>-0.088325</td>\n",
       "      <td>3.804237</td>\n",
       "      <td>0.000000</td>\n",
       "      <td>-1</td>\n",
       "    </tr>\n",
       "    <tr>\n",
       "      <th>2</th>\n",
       "      <td>7</td>\n",
       "      <td>0</td>\n",
       "      <td>0</td>\n",
       "      <td>0</td>\n",
       "      <td>0</td>\n",
       "      <td>0</td>\n",
       "      <td>0</td>\n",
       "      <td>0</td>\n",
       "      <td>0</td>\n",
       "      <td>0</td>\n",
       "      <td>...</td>\n",
       "      <td>-0.000203</td>\n",
       "      <td>-0.344924</td>\n",
       "      <td>-2.278078</td>\n",
       "      <td>0.000000</td>\n",
       "      <td>-0.298661</td>\n",
       "      <td>-0.011307</td>\n",
       "      <td>-1.098066</td>\n",
       "      <td>4.337093</td>\n",
       "      <td>-3.050207</td>\n",
       "      <td>-1</td>\n",
       "    </tr>\n",
       "    <tr>\n",
       "      <th>3</th>\n",
       "      <td>9</td>\n",
       "      <td>0</td>\n",
       "      <td>0</td>\n",
       "      <td>0</td>\n",
       "      <td>0</td>\n",
       "      <td>0</td>\n",
       "      <td>0</td>\n",
       "      <td>0</td>\n",
       "      <td>0</td>\n",
       "      <td>0</td>\n",
       "      <td>...</td>\n",
       "      <td>0.000465</td>\n",
       "      <td>0.399228</td>\n",
       "      <td>-3.151707</td>\n",
       "      <td>1.525103</td>\n",
       "      <td>0.128562</td>\n",
       "      <td>-0.002679</td>\n",
       "      <td>-1.400843</td>\n",
       "      <td>4.861759</td>\n",
       "      <td>-1.525103</td>\n",
       "      <td>-1</td>\n",
       "    </tr>\n",
       "    <tr>\n",
       "      <th>4</th>\n",
       "      <td>13</td>\n",
       "      <td>0</td>\n",
       "      <td>0</td>\n",
       "      <td>0</td>\n",
       "      <td>0</td>\n",
       "      <td>0</td>\n",
       "      <td>0</td>\n",
       "      <td>0</td>\n",
       "      <td>0</td>\n",
       "      <td>0</td>\n",
       "      <td>...</td>\n",
       "      <td>-0.000757</td>\n",
       "      <td>0.155938</td>\n",
       "      <td>-4.238580</td>\n",
       "      <td>1.525103</td>\n",
       "      <td>-0.365441</td>\n",
       "      <td>-0.000968</td>\n",
       "      <td>-1.992382</td>\n",
       "      <td>4.932720</td>\n",
       "      <td>-3.050207</td>\n",
       "      <td>-1</td>\n",
       "    </tr>\n",
       "  </tbody>\n",
       "</table>\n",
       "<p>5 rows × 593 columns</p>\n",
       "</div>"
      ],
      "text/plain": [
       "   ID  X0_a  X0_ad  X0_af  X0_ai  X0_aj  X0_ak  X0_al  X0_am  X0_ao   ...     \\\n",
       "0   0     0      0      0      0      0      0      0      0      0   ...      \n",
       "1   6     0      0      0      0      0      0      0      0      0   ...      \n",
       "2   7     0      0      0      0      0      0      0      0      0   ...      \n",
       "3   9     0      0      0      0      0      0      0      0      0   ...      \n",
       "4  13     0      0      0      0      0      0      0      0      0   ...      \n",
       "\n",
       "      ica_9    tsvd_9     grp_9     srp_9    pca_10    ica_10   tsvd_10  \\\n",
       "0  0.006600  0.614259  1.666618  0.000000 -0.298623 -0.019325  0.170974   \n",
       "1  0.005459  0.750283  0.498245  1.525103  0.610756  0.002209 -0.088325   \n",
       "2 -0.000203 -0.344924 -2.278078  0.000000 -0.298661 -0.011307 -1.098066   \n",
       "3  0.000465  0.399228 -3.151707  1.525103  0.128562 -0.002679 -1.400843   \n",
       "4 -0.000757  0.155938 -4.238580  1.525103 -0.365441 -0.000968 -1.992382   \n",
       "\n",
       "     grp_10    srp_10  cluster  \n",
       "0  3.441077  0.000000       -1  \n",
       "1  3.804237  0.000000       -1  \n",
       "2  4.337093 -3.050207       -1  \n",
       "3  4.861759 -1.525103       -1  \n",
       "4  4.932720 -3.050207       -1  \n",
       "\n",
       "[5 rows x 593 columns]"
      ]
     },
     "execution_count": 209,
     "metadata": {},
     "output_type": "execute_result"
    }
   ],
   "source": [
    "data_all.head()"
   ]
  },
  {
   "cell_type": "code",
   "execution_count": 210,
   "metadata": {
    "collapsed": true
   },
   "outputs": [],
   "source": [
    "dummies = pd.get_dummies(data_all['cluster'], prefix='cluster', drop_first=False)\n",
    "data_all = pd.concat([data_all, dummies], axis=1)\n",
    "\n",
    "data_all = data_all.drop('cluster', axis=1)\n"
   ]
  },
  {
   "cell_type": "code",
   "execution_count": 211,
   "metadata": {},
   "outputs": [
    {
     "data": {
      "text/html": [
       "<div>\n",
       "<style>\n",
       "    .dataframe thead tr:only-child th {\n",
       "        text-align: right;\n",
       "    }\n",
       "\n",
       "    .dataframe thead th {\n",
       "        text-align: left;\n",
       "    }\n",
       "\n",
       "    .dataframe tbody tr th {\n",
       "        vertical-align: top;\n",
       "    }\n",
       "</style>\n",
       "<table border=\"1\" class=\"dataframe\">\n",
       "  <thead>\n",
       "    <tr style=\"text-align: right;\">\n",
       "      <th></th>\n",
       "      <th>ID</th>\n",
       "      <th>X0_a</th>\n",
       "      <th>X0_ad</th>\n",
       "      <th>X0_af</th>\n",
       "      <th>X0_ai</th>\n",
       "      <th>X0_aj</th>\n",
       "      <th>X0_ak</th>\n",
       "      <th>X0_al</th>\n",
       "      <th>X0_am</th>\n",
       "      <th>X0_ao</th>\n",
       "      <th>...</th>\n",
       "      <th>cluster_-1</th>\n",
       "      <th>cluster_0</th>\n",
       "      <th>cluster_1</th>\n",
       "      <th>cluster_2</th>\n",
       "      <th>cluster_3</th>\n",
       "      <th>cluster_4</th>\n",
       "      <th>cluster_5</th>\n",
       "      <th>cluster_6</th>\n",
       "      <th>cluster_7</th>\n",
       "      <th>cluster_8</th>\n",
       "    </tr>\n",
       "  </thead>\n",
       "  <tbody>\n",
       "    <tr>\n",
       "      <th>0</th>\n",
       "      <td>0</td>\n",
       "      <td>0</td>\n",
       "      <td>0</td>\n",
       "      <td>0</td>\n",
       "      <td>0</td>\n",
       "      <td>0</td>\n",
       "      <td>0</td>\n",
       "      <td>0</td>\n",
       "      <td>0</td>\n",
       "      <td>0</td>\n",
       "      <td>...</td>\n",
       "      <td>1</td>\n",
       "      <td>0</td>\n",
       "      <td>0</td>\n",
       "      <td>0</td>\n",
       "      <td>0</td>\n",
       "      <td>0</td>\n",
       "      <td>0</td>\n",
       "      <td>0</td>\n",
       "      <td>0</td>\n",
       "      <td>0</td>\n",
       "    </tr>\n",
       "    <tr>\n",
       "      <th>1</th>\n",
       "      <td>6</td>\n",
       "      <td>0</td>\n",
       "      <td>0</td>\n",
       "      <td>0</td>\n",
       "      <td>0</td>\n",
       "      <td>0</td>\n",
       "      <td>0</td>\n",
       "      <td>0</td>\n",
       "      <td>0</td>\n",
       "      <td>0</td>\n",
       "      <td>...</td>\n",
       "      <td>1</td>\n",
       "      <td>0</td>\n",
       "      <td>0</td>\n",
       "      <td>0</td>\n",
       "      <td>0</td>\n",
       "      <td>0</td>\n",
       "      <td>0</td>\n",
       "      <td>0</td>\n",
       "      <td>0</td>\n",
       "      <td>0</td>\n",
       "    </tr>\n",
       "    <tr>\n",
       "      <th>2</th>\n",
       "      <td>7</td>\n",
       "      <td>0</td>\n",
       "      <td>0</td>\n",
       "      <td>0</td>\n",
       "      <td>0</td>\n",
       "      <td>0</td>\n",
       "      <td>0</td>\n",
       "      <td>0</td>\n",
       "      <td>0</td>\n",
       "      <td>0</td>\n",
       "      <td>...</td>\n",
       "      <td>1</td>\n",
       "      <td>0</td>\n",
       "      <td>0</td>\n",
       "      <td>0</td>\n",
       "      <td>0</td>\n",
       "      <td>0</td>\n",
       "      <td>0</td>\n",
       "      <td>0</td>\n",
       "      <td>0</td>\n",
       "      <td>0</td>\n",
       "    </tr>\n",
       "    <tr>\n",
       "      <th>3</th>\n",
       "      <td>9</td>\n",
       "      <td>0</td>\n",
       "      <td>0</td>\n",
       "      <td>0</td>\n",
       "      <td>0</td>\n",
       "      <td>0</td>\n",
       "      <td>0</td>\n",
       "      <td>0</td>\n",
       "      <td>0</td>\n",
       "      <td>0</td>\n",
       "      <td>...</td>\n",
       "      <td>1</td>\n",
       "      <td>0</td>\n",
       "      <td>0</td>\n",
       "      <td>0</td>\n",
       "      <td>0</td>\n",
       "      <td>0</td>\n",
       "      <td>0</td>\n",
       "      <td>0</td>\n",
       "      <td>0</td>\n",
       "      <td>0</td>\n",
       "    </tr>\n",
       "    <tr>\n",
       "      <th>4</th>\n",
       "      <td>13</td>\n",
       "      <td>0</td>\n",
       "      <td>0</td>\n",
       "      <td>0</td>\n",
       "      <td>0</td>\n",
       "      <td>0</td>\n",
       "      <td>0</td>\n",
       "      <td>0</td>\n",
       "      <td>0</td>\n",
       "      <td>0</td>\n",
       "      <td>...</td>\n",
       "      <td>1</td>\n",
       "      <td>0</td>\n",
       "      <td>0</td>\n",
       "      <td>0</td>\n",
       "      <td>0</td>\n",
       "      <td>0</td>\n",
       "      <td>0</td>\n",
       "      <td>0</td>\n",
       "      <td>0</td>\n",
       "      <td>0</td>\n",
       "    </tr>\n",
       "  </tbody>\n",
       "</table>\n",
       "<p>5 rows × 602 columns</p>\n",
       "</div>"
      ],
      "text/plain": [
       "   ID  X0_a  X0_ad  X0_af  X0_ai  X0_aj  X0_ak  X0_al  X0_am  X0_ao  \\\n",
       "0   0     0      0      0      0      0      0      0      0      0   \n",
       "1   6     0      0      0      0      0      0      0      0      0   \n",
       "2   7     0      0      0      0      0      0      0      0      0   \n",
       "3   9     0      0      0      0      0      0      0      0      0   \n",
       "4  13     0      0      0      0      0      0      0      0      0   \n",
       "\n",
       "     ...      cluster_-1  cluster_0  cluster_1  cluster_2  cluster_3  \\\n",
       "0    ...               1          0          0          0          0   \n",
       "1    ...               1          0          0          0          0   \n",
       "2    ...               1          0          0          0          0   \n",
       "3    ...               1          0          0          0          0   \n",
       "4    ...               1          0          0          0          0   \n",
       "\n",
       "   cluster_4  cluster_5  cluster_6  cluster_7  cluster_8  \n",
       "0          0          0          0          0          0  \n",
       "1          0          0          0          0          0  \n",
       "2          0          0          0          0          0  \n",
       "3          0          0          0          0          0  \n",
       "4          0          0          0          0          0  \n",
       "\n",
       "[5 rows x 602 columns]"
      ]
     },
     "execution_count": 211,
     "metadata": {},
     "output_type": "execute_result"
    }
   ],
   "source": [
    "data_all.head()"
   ]
  },
  {
   "cell_type": "markdown",
   "metadata": {},
   "source": [
    "# Separate again in train and test"
   ]
  },
  {
   "cell_type": "code",
   "execution_count": 212,
   "metadata": {},
   "outputs": [
    {
     "name": "stdout",
     "output_type": "stream",
     "text": [
      "4209\n",
      "4209\n",
      "   ID  X0_a  X0_ad  X0_af  X0_ai  X0_aj  X0_ak  X0_al  X0_am  X0_ao   ...    \\\n",
      "0   0     0      0      0      0      0      0      0      0      0   ...     \n",
      "1   6     0      0      0      0      0      0      0      0      0   ...     \n",
      "2   7     0      0      0      0      0      0      0      0      0   ...     \n",
      "3   9     0      0      0      0      0      0      0      0      0   ...     \n",
      "4  13     0      0      0      0      0      0      0      0      0   ...     \n",
      "\n",
      "   X90  X91  X92  X94  X95  X96  X97  X98  X99       y  \n",
      "0    0    0    0    0    0    0    0    0    0  130.81  \n",
      "1    0    0    0    0    0    1    0    1    0   88.53  \n",
      "2    0    0    0    0    0    1    0    1    0   76.26  \n",
      "3    0    0    0    0    0    1    0    1    0   80.62  \n",
      "4    0    0    0    0    0    1    0    1    0   78.02  \n",
      "\n",
      "[5 rows x 543 columns]\n",
      "   ID  X0_a  X0_ad  X0_af  X0_ai  X0_aj  X0_ak  X0_al  X0_am  X0_ao   ...    \\\n",
      "0   0     0      0      0      0      0      0      0      0      0   ...     \n",
      "1   6     0      0      0      0      0      0      0      0      0   ...     \n",
      "2   7     0      0      0      0      0      0      0      0      0   ...     \n",
      "3   9     0      0      0      0      0      0      0      0      0   ...     \n",
      "4  13     0      0      0      0      0      0      0      0      0   ...     \n",
      "\n",
      "   cluster_0  cluster_1  cluster_2  cluster_3  cluster_4  cluster_5  \\\n",
      "0          0          0          0          0          0          0   \n",
      "1          0          0          0          0          0          0   \n",
      "2          0          0          0          0          0          0   \n",
      "3          0          0          0          0          0          0   \n",
      "4          0          0          0          0          0          0   \n",
      "\n",
      "   cluster_6  cluster_7  cluster_8       y  \n",
      "0          0          0          0  130.81  \n",
      "1          0          0          0   88.53  \n",
      "2          0          0          0   76.26  \n",
      "3          0          0          0   80.62  \n",
      "4          0          0          0   78.02  \n",
      "\n",
      "[5 rows x 603 columns]\n",
      "   ID  X0_a  X0_ad  X0_af  X0_ai  X0_aj  X0_ak  X0_al  X0_am  X0_ao ...   \\\n",
      "0   1     0      0      0      0      0      0      0      0      0 ...    \n",
      "1   2     0      0      0      0      0      0      0      0      0 ...    \n",
      "2   3     0      0      0      0      0      0      0      0      0 ...    \n",
      "3   4     0      0      0      0      0      0      0      0      0 ...    \n",
      "4   5     0      0      0      0      0      0      0      0      0 ...    \n",
      "\n",
      "   X8_y  X90  X91  X92  X94  X95  X96  X97  X98  X99  \n",
      "0     0    0    0    0    0    0    1    0    1    0  \n",
      "1     1    0    0    0    0    0    0    0    1    0  \n",
      "2     0    0    0    0    0    0    1    0    1    0  \n",
      "3     0    0    0    0    0    0    1    0    1    0  \n",
      "4     0    0    0    0    0    0    1    0    1    0  \n",
      "\n",
      "[5 rows x 542 columns]\n",
      "   ID  X0_a  X0_ad  X0_af  X0_ai  X0_aj  X0_ak  X0_al  X0_am  X0_ao  \\\n",
      "0   1     0      0      0      0      0      0      0      0      0   \n",
      "1   2     0      0      0      0      0      0      0      0      0   \n",
      "2   3     0      0      0      0      0      0      0      0      0   \n",
      "3   4     0      0      0      0      0      0      0      0      0   \n",
      "4   5     0      0      0      0      0      0      0      0      0   \n",
      "\n",
      "     ...      cluster_-1  cluster_0  cluster_1  cluster_2  cluster_3  \\\n",
      "0    ...               1          0          0          0          0   \n",
      "1    ...               1          0          0          0          0   \n",
      "2    ...               1          0          0          0          0   \n",
      "3    ...               1          0          0          0          0   \n",
      "4    ...               1          0          0          0          0   \n",
      "\n",
      "   cluster_4  cluster_5  cluster_6  cluster_7  cluster_8  \n",
      "0          0          0          0          0          0  \n",
      "1          0          0          0          0          0  \n",
      "2          0          0          0          0          0  \n",
      "3          0          0          0          0          0  \n",
      "4          0          0          0          0          0  \n",
      "\n",
      "[5 rows x 602 columns]\n"
     ]
    },
    {
     "name": "stderr",
     "output_type": "stream",
     "text": [
      "/usr/local/lib/python3.5/dist-packages/ipykernel_launcher.py:3: SettingWithCopyWarning: \n",
      "A value is trying to be set on a copy of a slice from a DataFrame.\n",
      "Try using .loc[row_indexer,col_indexer] = value instead\n",
      "\n",
      "See the caveats in the documentation: http://pandas.pydata.org/pandas-docs/stable/indexing.html#indexing-view-versus-copy\n",
      "  This is separate from the ipykernel package so we can avoid doing imports until\n"
     ]
    }
   ],
   "source": [
    "data2 = data_all.head(len_train)\n",
    "data_test2 = data_all.tail(len_test)\n",
    "data2['y'] = data['y']\n",
    "\n",
    "print(len(data2))\n",
    "print(len(data_test2))\n",
    "\n",
    "print(data.head(5))\n",
    "print(data2.head(5))\n",
    "\n",
    "\n",
    "print(data_test.head(5))\n",
    "print(data_test2.head(5))\n",
    "\n",
    "data = data2\n",
    "data_test = data_test2\n",
    "\n",
    "\n",
    "del data2, data_test2"
   ]
  },
  {
   "cell_type": "markdown",
   "metadata": {},
   "source": [
    "# Keeping colunms in both train and test (needed due to new cluster colunms)"
   ]
  },
  {
   "cell_type": "code",
   "execution_count": 213,
   "metadata": {
    "collapsed": true
   },
   "outputs": [],
   "source": [
    "keep = np.intersect1d(data.columns.to_series(), data_test.columns.to_series())\n",
    "data = data[np.append(keep,'y')]\n",
    "data_test = data_test[keep]"
   ]
  },
  {
   "cell_type": "code",
   "execution_count": 214,
   "metadata": {
    "collapsed": true
   },
   "outputs": [],
   "source": [
    "# Droping noise cluster\n",
    "#data = data.drop('cluster_-1',axis=1)\n",
    "#data_test = data_test.drop('cluster_-1',axis=1)\n",
    "# Made things worse, for some reason."
   ]
  },
  {
   "cell_type": "markdown",
   "metadata": {},
   "source": [
    "# Splitting data into training(validation)/testing"
   ]
  },
  {
   "cell_type": "code",
   "execution_count": 215,
   "metadata": {
    "collapsed": true
   },
   "outputs": [],
   "source": [
    "train_features, test_features, train_y, test_y = model_selection.train_test_split(\n",
    "    data, data['y'], test_size = 0.3, random_state = 0)"
   ]
  },
  {
   "cell_type": "code",
   "execution_count": 216,
   "metadata": {
    "collapsed": true
   },
   "outputs": [],
   "source": [
    "train_features = train_features.drop(['ID', 'y'], axis = 1).values\n",
    "test_features = test_features.drop(['ID', 'y'], axis = 1).values\n",
    "\n",
    "# Rede neural\n",
    "train_y_rn = train_y[:, np.newaxis]\n",
    "test_y_rn = test_y[:, np.newaxis]\n",
    "\n",
    "train_y = train_y.values\n",
    "test_y = test_y.values"
   ]
  },
  {
   "cell_type": "code",
   "execution_count": 217,
   "metadata": {
    "collapsed": true
   },
   "outputs": [],
   "source": [
    "#del data"
   ]
  },
  {
   "cell_type": "markdown",
   "metadata": {},
   "source": [
    "# Using all Data available"
   ]
  },
  {
   "cell_type": "code",
   "execution_count": 218,
   "metadata": {
    "collapsed": true
   },
   "outputs": [],
   "source": [
    "train_y = data['y'].values\n",
    "\n",
    "train_features = data.drop(['ID', 'y'], axis = 1).values"
   ]
  },
  {
   "cell_type": "code",
   "execution_count": 219,
   "metadata": {},
   "outputs": [
    {
     "data": {
      "text/plain": [
       "(4209,)"
      ]
     },
     "execution_count": 219,
     "metadata": {},
     "output_type": "execute_result"
    }
   ],
   "source": [
    "train_y.shape"
   ]
  },
  {
   "cell_type": "markdown",
   "metadata": {},
   "source": [
    "# xgboost"
   ]
  },
  {
   "cell_type": "code",
   "execution_count": 220,
   "metadata": {
    "collapsed": true
   },
   "outputs": [],
   "source": [
    "rg_xgb = xgb.sklearn.XGBRegressor(base_score=train_y.mean(),\n",
    "                                        learning_rate = 0.005,\n",
    "                                        n_estimators = 800,\n",
    "                                        subsample = 0.95,\n",
    "                                        max_depth = 4,\n",
    "                                        objective = 'reg:linear',\n",
    "                                        silent = 1).fit(train_features, train_y)"
   ]
  },
  {
   "cell_type": "code",
   "execution_count": 221,
   "metadata": {},
   "outputs": [
    {
     "name": "stdout",
     "output_type": "stream",
     "text": [
      "Xgboost Score: 0.676217086364\n",
      "Xgboost Square: 0.686090355993\n"
     ]
    }
   ],
   "source": [
    "rg_xgb_score = rg_xgb.score(test_features, test_y)\n",
    "print('Xgboost Score:', rg_xgb_score)\n",
    "\n",
    "predict = rg_xgb.predict(test_features)\n",
    "\n",
    "slope, intercept, r_value, p_value, std_err = stats.linregress(predict, test_y)\n",
    "print('Xgboost Square:', r_value**2)"
   ]
  },
  {
   "cell_type": "code",
   "execution_count": 222,
   "metadata": {
    "collapsed": true
   },
   "outputs": [],
   "source": [
    "predict_test = rg_xgb.predict(data_test.iloc[:, 1:].values)\n",
    "\n",
    "submission = pd.DataFrame({'ID': data_test['ID'], 'y': predict_test})\n"
   ]
  },
  {
   "cell_type": "code",
   "execution_count": 223,
   "metadata": {
    "collapsed": true
   },
   "outputs": [],
   "source": [
    "#submission.to_csv(os.path.join(datapath,'submissionrg_xgb2.csv'), index = False)\n",
    "submission.to_csv('submissionrg_xgb2.csv', index = False)"
   ]
  },
  {
   "cell_type": "markdown",
   "metadata": {},
   "source": [
    "# Random Forest"
   ]
  },
  {
   "cell_type": "code",
   "execution_count": null,
   "metadata": {
    "collapsed": true
   },
   "outputs": [],
   "source": [
    "randomforest = RandomForestRegressor(n_estimators=200, max_features='auto', bootstrap=False, \n",
    "                                   oob_score=False, n_jobs=-1, random_state=0).fit(train_features, train_y)"
   ]
  },
  {
   "cell_type": "code",
   "execution_count": null,
   "metadata": {
    "collapsed": true
   },
   "outputs": [],
   "source": [
    "randomforest_score = randomforest.score(test_features, test_y)\n",
    "print('RF Score:', randomforest_score)\n",
    "\n",
    "predict = randomforest.predict(test_features)\n",
    "\n",
    "slope, intercept, r_value, p_value, std_err = stats.linregress(predict, test_y)\n",
    "print('R Square:', r_value**2)"
   ]
  },
  {
   "cell_type": "code",
   "execution_count": null,
   "metadata": {
    "collapsed": true
   },
   "outputs": [],
   "source": [
    "predict_test = randomforest.predict(data_test.iloc[:, 1:].values)\n",
    "\n",
    "submission = pd.DataFrame({'ID': data_test['ID'], 'y': predict_test})\n",
    "submission.to_csv(os.path.join(datapath,'submissionrf.csv'), index = False)"
   ]
  },
  {
   "cell_type": "markdown",
   "metadata": {},
   "source": [
    "# Tpot"
   ]
  },
  {
   "cell_type": "code",
   "execution_count": null,
   "metadata": {},
   "outputs": [
    {
     "name": "stderr",
     "output_type": "stream",
     "text": [
      "\r",
      "Optimization Progress:   0%|          | 0/50 [00:00<?, ?pipeline/s]"
     ]
    }
   ],
   "source": [
    "rg_tpot = TPOTRegressor(verbosity=2, \n",
    "                        max_time_mins=300, \n",
    "                        max_eval_time_mins=5, \n",
    "                        population_size=50,\n",
    "                        generations=5,\n",
    "                        n_jobs = -1,\n",
    "                        scoring = 'neg_mean_squared_error')\n",
    "\n",
    "rg_tpot.fit(train_features, train_y)"
   ]
  },
  {
   "cell_type": "code",
   "execution_count": null,
   "metadata": {
    "collapsed": true
   },
   "outputs": [],
   "source": [
    "rg_tpot_score = rg_tpot.score(test_features, test_y)\n",
    "print('rg_tpot Score:', rg_tpot_score)\n",
    "\n",
    "predict = rg_tpot.predict(test_features)\n",
    "\n",
    "slope, intercept, r_value, p_value, std_err = stats.linregress(predict, test_y)\n",
    "print('Tpot Square:', r_value**2)"
   ]
  },
  {
   "cell_type": "code",
   "execution_count": null,
   "metadata": {
    "collapsed": true
   },
   "outputs": [],
   "source": [
    "predict_test = rg_tpot.predict(data_test.iloc[:, 1:].values)\n",
    "\n",
    "submission = pd.DataFrame({'ID': data_test['ID'], 'y': predict_test})\n",
    "submission.to_csv(os.path.join(datapath,'submissionrg_tpot_terceira_interacao.csv'), index = False)"
   ]
  },
  {
   "cell_type": "code",
   "execution_count": null,
   "metadata": {
    "collapsed": true
   },
   "outputs": [],
   "source": [
    "''' ~0.54995 No Kaggle\n",
    "\n",
    "Model Tpot Param:\n",
    "verbosity=2, \n",
    "max_time_mins=60, \n",
    "max_eval_time_mins=4, \n",
    "population_size=50,\n",
    "generations=5,\n",
    "n_jobs = -1,\n",
    "scoring = neg_mean_squared_error\n",
    "\n",
    "ExtraTreesRegressor(input_matrix, ExtraTreesRegressor__bootstrap=True, \n",
    "                    ExtraTreesRegressor__max_features=0.45, ExtraTreesRegressor__min_samples_leaf=18,\n",
    "                    ExtraTreesRegressor__min_samples_split=18, ExtraTreesRegressor__n_estimators=100)\n",
    "                    \n",
    "'''"
   ]
  },
  {
   "cell_type": "code",
   "execution_count": null,
   "metadata": {
    "collapsed": true
   },
   "outputs": [],
   "source": [
    "''' 0.54865\n",
    "rg_tpot = TPOTRegressor(verbosity=2, \n",
    "                        max_time_mins=300, \n",
    "                        max_eval_time_mins=5, \n",
    "                        population_size=50,\n",
    "                        generations=5,\n",
    "                        n_jobs = 1,\n",
    "                        scoring = 'neg_mean_squared_error')\n",
    "\n",
    "Best pipeline: XGBRegressor(input_matrix, XGBRegressor__learning_rate=DEFAULT, \n",
    "XGBRegressor__max_depth=2, XGBRegressor__min_child_weight=17, \n",
    "XGBRegressor__n_estimators=100, XGBRegressor__nthread=1, XGBRegressor__subsample=0.95)"
   ]
  },
  {
   "cell_type": "code",
   "execution_count": null,
   "metadata": {
    "collapsed": true
   },
   "outputs": [],
   "source": [
    "''' 0.54841 No Kaggle\n",
    "Vale ressaltar que parece que não rodou todo\n",
    "\n",
    "rg_tpot = TPOTRegressor(verbosity=2, \n",
    "                        max_time_mins=440, \n",
    "                        max_eval_time_mins=6, \n",
    "                        population_size=75,\n",
    "                        generations=10,\n",
    "                        n_jobs = -1,\n",
    "                        scoring = 'neg_mean_squared_error')\n",
    "\n",
    "Best pipeline: RandomForestRegressor(input_matrix, RandomForestRegressor__bootstrap=DEFAULT, RandomForestRegressor__max_features=0.7, \n",
    "                                     RandomForestRegressor__min_samples_leaf=20, RandomForestRegressor__min_samples_split=13, \n",
    "                                     RandomForestRegressor__n_estimators=100)\n",
    "                                     \n",
    "                                     "
   ]
  },
  {
   "cell_type": "markdown",
   "metadata": {},
   "source": [
    "# Adaboost"
   ]
  },
  {
   "cell_type": "code",
   "execution_count": null,
   "metadata": {
    "collapsed": true
   },
   "outputs": [],
   "source": [
    "rg_adboost = AdaBoostRegressor(base_estimator=None,\n",
    "                             n_estimators=400,\n",
    "                             learning_rate=0.1,\n",
    "                             random_state=0).fit(train_features, train_y)"
   ]
  },
  {
   "cell_type": "code",
   "execution_count": null,
   "metadata": {
    "collapsed": true
   },
   "outputs": [],
   "source": [
    "rg_adboost_score = rg_adboost.score(test_features, test_y)\n",
    "print('rg_adboost Score:', rg_adboost_score)\n",
    "\n",
    "predict = rg_adboost.predict(test_features)\n",
    "\n",
    "slope, intercept, r_value, p_value, std_err = stats.linregress(predict, test_y)\n",
    "print('Adaboost Square:', r_value**2)"
   ]
  },
  {
   "cell_type": "markdown",
   "metadata": {},
   "source": [
    "# Rede Neural"
   ]
  },
  {
   "cell_type": "code",
   "execution_count": null,
   "metadata": {
    "collapsed": true
   },
   "outputs": [],
   "source": [
    "# Não está convergindo, provavelmente problema com muitas variáveis pouco explicativas\n",
    "\n",
    "def build_model():\n",
    "    tf.reset_default_graph()\n",
    "    \n",
    "    net = tflearn.input_data([None, train_features.shape[1]])\n",
    "\n",
    "    net = tflearn.fully_connected(net, 1440, activation='ReLU') \n",
    "    net = tflearn.dropout(net, 0.80)\n",
    "    net = tflearn.fully_connected(net, 2440, activation='ReLU') \n",
    "    net = tflearn.dropout(net, 0.80)\n",
    "    net = tflearn.fully_connected(net, 2440, activation='ReLU') \n",
    "    net = tflearn.dropout(net, 0.80)\n",
    "    net = tflearn.fully_connected(net, 2440, activation='ReLU') \n",
    "    net = tflearn.dropout(net, 0.80)\n",
    "    net = tflearn.fully_connected(net, 2440, activation='ReLU') \n",
    "    net = tflearn.dropout(net, 0.80)\n",
    "    net = tflearn.fully_connected(net, 3440, activation='ReLU') \n",
    "    net = tflearn.dropout(net, 0.80)\n",
    "    net = tflearn.fully_connected(net, 2440, activation='ReLU') \n",
    "    net = tflearn.dropout(net, 0.80)\n",
    "    net = tflearn.fully_connected(net, 1440, activation='ReLU') \n",
    "    net = tflearn.dropout(net, 0.80)\n",
    "    net = tflearn.fully_connected(net, 2440, activation='ReLU') \n",
    "    net = tflearn.dropout(net, 0.80)\n",
    "    net = tflearn.fully_connected(net, 2440, activation='ReLU') \n",
    "    net = tflearn.dropout(net, 0.80)\n",
    "    net = tflearn.fully_connected(net, 2440, activation='ReLU') \n",
    "    net = tflearn.dropout(net, 0.80)\n",
    "    net = tflearn.fully_connected(net, 1440, activation='ReLU') \n",
    "    net = tflearn.dropout(net, 0.80)\n",
    "    net = tflearn.fully_connected(net, 740, activation='ReLU') \n",
    "    net = tflearn.dropout(net, 0.80)\n",
    "    net = tflearn.fully_connected(net, 320, activation='ReLU') \n",
    "    net = tflearn.dropout(net, 0.80)\n",
    "    net = tflearn.fully_connected(net, 80, activation='ReLU') \n",
    "    net = tflearn.dropout(net, 0.80)\n",
    "    net = tflearn.fully_connected(net, 10, activation='ReLU') \n",
    "    net = tflearn.dropout(net, 0.80)\n",
    "    \n",
    "    net = tflearn.fully_connected(net, 1, activation='linear')\n",
    "    net = tflearn.regression(net, optimizer='sgd', learning_rate=0.1, loss=\"mean_square\")\n",
    "    \n",
    "    model = tflearn.DNN(net)\n",
    "    return model\n",
    "\n",
    "model = build_model()"
   ]
  },
  {
   "cell_type": "code",
   "execution_count": null,
   "metadata": {
    "collapsed": true
   },
   "outputs": [],
   "source": [
    "model.fit(train_features, train_y_rn, validation_set=0.2, show_metric=True, batch_size=512, n_epoch=2000)"
   ]
  },
  {
   "cell_type": "code",
   "execution_count": null,
   "metadata": {
    "collapsed": true
   },
   "outputs": [],
   "source": [
    "predict = model.predict(test_features)\n",
    "predict = [predict[i][0] for i in range(0, len(predict))]\n",
    "\n",
    "slope, intercept, r_value, p_value, std_err = stats.linregress(predict, test_y)\n",
    "print('R Square:', r_value**2)"
   ]
  },
  {
   "cell_type": "code",
   "execution_count": null,
   "metadata": {
    "collapsed": true
   },
   "outputs": [],
   "source": [
    "predict_test = model.predict(data_test.iloc[:, 1:])\n",
    "predict_test = [predict_test[i][0] for i in range(0, len(predict_test))]"
   ]
  },
  {
   "cell_type": "code",
   "execution_count": null,
   "metadata": {
    "collapsed": true
   },
   "outputs": [],
   "source": [
    "submission = pd.DataFrame({'ID': data_test['ID'], 'y': predict_test})\n",
    "print(submission.head())\n",
    "submission.to_csv(os.path.join(datapath,'submissiondp.csv'), index = False)"
   ]
  },
  {
   "cell_type": "markdown",
   "metadata": {},
   "source": [
    "# Voting"
   ]
  },
  {
   "cell_type": "code",
   "execution_count": null,
   "metadata": {
    "collapsed": true
   },
   "outputs": [],
   "source": [
    "predict = rg_xgb.predict(test_features) + rg_tpot.predict(test_features)\n",
    "predict = predict / 2\n",
    "\n",
    "slope, intercept, r_value, p_value, std_err = stats.linregress(predict, test_y)\n",
    "print('Voting Square:', r_value**2)"
   ]
  },
  {
   "cell_type": "code",
   "execution_count": null,
   "metadata": {
    "collapsed": true
   },
   "outputs": [],
   "source": [
    "#Melhor entrada\n",
    "\n",
    "predict_test = rg_xgb.predict(data_test.iloc[:, 1:].values) + rg_tpot.predict(data_test.iloc[:, 1:].values) \n",
    "predict_test = predict_test / 2\n",
    "\n",
    "submission = pd.DataFrame({'ID': data_test['ID'], 'y': predict_test})\n",
    "submission.to_csv(os.path.join(datapath,'submissionvoting3.csv'), index = False)"
   ]
  },
  {
   "cell_type": "markdown",
   "metadata": {},
   "source": [
    "# Autosklearn"
   ]
  },
  {
   "cell_type": "code",
   "execution_count": null,
   "metadata": {
    "collapsed": true
   },
   "outputs": [],
   "source": [
    "autoskl = autosklearn.regression.AutoSklearnRegressor(time_left_for_this_task=60,\n",
    "                                                               per_run_time_limit=30,\n",
    "                                                               seed=0)\n",
    "\n",
    "autoskl.fit(train_features, train_y)"
   ]
  },
  {
   "cell_type": "code",
   "execution_count": null,
   "metadata": {
    "collapsed": true
   },
   "outputs": [],
   "source": [
    "autoskl_score = autoskl.score(test_features, test_y)\n",
    "print('autoskl Score:', autoskl_score)\n",
    "\n",
    "predict = autoskl.predict(test_features)\n",
    "\n",
    "slope, intercept, r_value, p_value, std_err = stats.linregress(predict, test_y)\n",
    "print('Autosklearn Square:', r_value**2)"
   ]
  },
  {
   "cell_type": "markdown",
   "metadata": {},
   "source": [
    "# XGboost - Kaggle Kernel"
   ]
  },
  {
   "cell_type": "code",
   "execution_count": null,
   "metadata": {
    "collapsed": true
   },
   "outputs": [],
   "source": [
    " ()# mmm, xgboost, loved by everyone ^-^\n",
    "import xgboost as xgb\n",
    "\n",
    "# prepare dict of params for xgboost to run with\n",
    "xgb_params = {\n",
    "    'n_trees': 500, \n",
    "    'eta': 0.005,\n",
    "    'max_depth': 4,\n",
    "    'subsample': 0.95,\n",
    "    'objective': 'reg:linear',\n",
    "    'eval_metric': 'rmse',\n",
    "    'base_score': train_y.mean(), # base prediction = mean(target)\n",
    "    'silent': 1\n",
    "}\n",
    "\n",
    "# form DMatrices for Xgboost training\n",
    "dtrain = xgb.DMatrix(train_features, train_y)\n",
    "dtest = xgb.DMatrix(data_test.iloc[:, 1:].values)\n",
    "\n",
    "# xgboost, cross-validation\n",
    "cv_result = xgb.cv(xgb_params, \n",
    "                   dtrain, \n",
    "                   num_boost_round=700, # increase to have better results (~700)\n",
    "                   early_stopping_rounds=50,\n",
    "                   verbose_eval=50, \n",
    "                   show_stdv=False\n",
    "                  )\n",
    "\n",
    "num_boost_rounds = len(cv_result)\n",
    "print(num_boost_rounds)\n",
    "\n",
    "# train model\n",
    "model = xgb.train(dict(xgb_params, silent=0), dtrain, num_boost_round=num_boost_rounds)"
   ]
  },
  {
   "cell_type": "code",
   "execution_count": null,
   "metadata": {
    "collapsed": true
   },
   "outputs": [],
   "source": [
    "print(r2_score(dtrain.get_label(), model.predict(dtrain)))"
   ]
  },
  {
   "cell_type": "code",
   "execution_count": null,
   "metadata": {
    "collapsed": true
   },
   "outputs": [],
   "source": [
    "# make predictions and save results\n",
    "y_pred = model.predict(dtest)\n",
    "output = pd.DataFrame({'id': data_test['ID'].astype(np.int32), 'y': y_pred})\n",
    "output.to_csv(os.path.join(datapath,'submissionxgb_kaggle.csv'), index = False)"
   ]
  },
  {
   "cell_type": "markdown",
   "metadata": {
    "collapsed": true
   },
   "source": [
    "# Old PCA ICA"
   ]
  },
  {
   "cell_type": "code",
   "execution_count": null,
   "metadata": {
    "collapsed": true
   },
   "outputs": [],
   "source": [
    "## Got this from https://www.kaggle.com/frednavruzov/baselines-to-start-with-lb-0-56\n",
    "\n",
    "from sklearn.decomposition import PCA, FastICA\n",
    "n_comp = 5\n",
    "\n",
    "# PCA\n",
    "pca = PCA(n_components=n_comp, random_state=42)\n",
    "pca2_results_train = pca.fit_transform(data.drop([\"ID\",\"y\"], axis=1))\n",
    "pca2_results_test = pca.transform(data_test)\n",
    "\n",
    "# ICA\n",
    "ica = FastICA(n_components=n_comp, random_state=42)\n",
    "ica2_results_train = ica.fit_transform(data.drop([\"ID\",\"y\"], axis=1))\n",
    "ica2_results_test = ica.transform(data_test)\n",
    "\n",
    "# Append decomposition components to datasets\n",
    "for i in range(1, n_comp+1):\n",
    "    data['pca_' + str(i)] = pca2_results_train[:,i-1]\n",
    "    data_test['pca_' + str(i)] = pca2_results_test[:, i-1]\n",
    "    \n",
    "    data['ica_' + str(i)] = ica2_results_train[:,i-1]\n",
    "    data_test['ica_' + str(i)] = ica2_results_test[:, i-1]\n",
    "    \n"
   ]
  }
 ],
 "metadata": {
  "kernelspec": {
   "display_name": "Python 3",
   "language": "python",
   "name": "python3"
  },
  "language_info": {
   "codemirror_mode": {
    "name": "ipython",
    "version": 3
   },
   "file_extension": ".py",
   "mimetype": "text/x-python",
   "name": "python",
   "nbconvert_exporter": "python",
   "pygments_lexer": "ipython3",
   "version": "3.5.2+"
  }
 },
 "nbformat": 4,
 "nbformat_minor": 2
}
