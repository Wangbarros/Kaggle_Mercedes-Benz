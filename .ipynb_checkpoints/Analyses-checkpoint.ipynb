{
 "cells": [
  {
   "cell_type": "code",
   "execution_count": null,
   "metadata": {
    "collapsed": true
   },
   "outputs": [],
   "source": [
    "import os\n",
    "import numpy as np\n",
    "import pandas as pd\n",
    "\n",
    "from sklearn import model_selection\n",
    "\n",
    "from scipy import stats"
   ]
  },
  {
   "cell_type": "markdown",
   "metadata": {},
   "source": [
    "# Reading the Data"
   ]
  },
  {
   "cell_type": "code",
   "execution_count": null,
   "metadata": {
    "collapsed": true
   },
   "outputs": [],
   "source": [
    "datapath = 'Data/'\n",
    "test_csv = 'test.csv'\n",
    "train_csv = 'train.csv'\n",
    "sample_csv = 'sample_submission.csv'"
   ]
  },
  {
   "cell_type": "code",
   "execution_count": null,
   "metadata": {
    "collapsed": true
   },
   "outputs": [],
   "source": [
    "data = pd.read_csv(os.path.join(datapath,train_csv))"
   ]
  },
  {
   "cell_type": "markdown",
   "metadata": {},
   "source": [
    "# Understanding the Data"
   ]
  },
  {
   "cell_type": "code",
   "execution_count": null,
   "metadata": {},
   "outputs": [],
   "source": [
    "print('Variables with letters are categorical. Variables with 0/1 are binary values.')\n",
    "data.head(3)"
   ]
  },
  {
   "cell_type": "code",
   "execution_count": null,
   "metadata": {},
   "outputs": [],
   "source": [
    "tp_int = []\n",
    "tp_float = []\n",
    "tp_obj = []\n",
    "tp_other = []\n",
    "\n",
    "#Getting all variables names, less ID and looking for it types \n",
    "for i in data.columns.to_series()[1:]:\n",
    "    if data[i].dtype == 'int64':\n",
    "        tp_int.append(i)\n",
    "    elif data[i].dtype == 'float64':\n",
    "        tp_float.append(i)\n",
    "    elif data[i].dtype == 'object':\n",
    "        tp_obj.append(i)\n",
    "    else:\n",
    "        tp_other.append(i)\n",
    "        \n",
    "dic = {'tp_int': tp_int, 'tp_float': tp_float, 'tp_obj': tp_obj, 'tp_other': tp_other}\n",
    "\n",
    "print('Categorical:', tp_obj)\n",
    "print('Float:', tp_float)\n",
    "print('Has other type?', tp_other)"
   ]
  },
  {
   "cell_type": "code",
   "execution_count": null,
   "metadata": {},
   "outputs": [],
   "source": [
    "drop = []\n",
    "binarys = []\n",
    "for i in tp_int:\n",
    "    print('Variable: {}, Min: {}, Max: {} , Unique: {}'.format(i, data[i].min(), data[i].max() ,data[i].unique()))\n",
    "    if data[i].max() == 0:\n",
    "        drop.append(i)\n",
    "    elif data[i].max() == 1 and data[i].min() == 0 and len(data[i].unique()) == 2:\n",
    "        binarys.append(i)\n",
    "    else:\n",
    "        pass "
   ]
  },
  {
   "cell_type": "code",
   "execution_count": null,
   "metadata": {},
   "outputs": [],
   "source": [
    "print('Variables only with 0:', drop)\n",
    "\n",
    "if len(drop) + len(binarys) == len(tp_int):\n",
    "    print('All other integer variables are binary')"
   ]
  },
  {
   "cell_type": "code",
   "execution_count": null,
   "metadata": {
    "collapsed": true
   },
   "outputs": [],
   "source": [
    "#Dropping variables only with zero\n",
    "data = data.drop(drop, axis = 1)"
   ]
  },
  {
   "cell_type": "markdown",
   "metadata": {},
   "source": [
    "# One hot enconding"
   ]
  },
  {
   "cell_type": "code",
   "execution_count": null,
   "metadata": {},
   "outputs": [],
   "source": [
    "#Best way to work with categorical variables? I don't think is the best in all case. I will study about that\n",
    "\n",
    "for each in tp_obj:\n",
    "    dummies = pd.get_dummies(data[each], prefix=each, drop_first=False)\n",
    "    data = pd.concat([data, dummies], axis=1)\n",
    "\n",
    "data = data.drop(tp_obj, axis=1)\n",
    "data.head()"
   ]
  },
  {
   "cell_type": "markdown",
   "metadata": {},
   "source": [
    "# Splitting data into training/testing"
   ]
  },
  {
   "cell_type": "code",
   "execution_count": null,
   "metadata": {
    "collapsed": true
   },
   "outputs": [],
   "source": [
    "train_features, test_features, train_y, test_y = model_selection.train_test_split(\n",
    "    data, data['y'], test_size = 0.3, random_state = 0)"
   ]
  },
  {
   "cell_type": "code",
   "execution_count": null,
   "metadata": {
    "collapsed": true
   },
   "outputs": [],
   "source": [
    "train_features = train_features.drop(['ID', 'y'], axis = 1)\n",
    "test_features = test_features.drop(['ID', 'y'], axis = 1)"
   ]
  },
  {
   "cell_type": "markdown",
   "metadata": {},
   "source": [
    "# Random Forest"
   ]
  },
  {
   "cell_type": "code",
   "execution_count": null,
   "metadata": {},
   "outputs": [],
   "source": [
    "from sklearn.ensemble import RandomForestRegressor\n",
    "\n",
    "randomforest = RandomForestRegressor(n_estimators=200, max_features='auto', bootstrap=False, \n",
    "                                   oob_score=False, n_jobs=-1, random_state=0).fit(train_features, train_y)\n",
    "\n",
    "randomforest_score = randomforest.score(test_features, test_y)\n",
    "print('RF Score:', randomforest_score)\n",
    "\n",
    "predict = randomforest.predict(test_features)\n",
    "\n",
    "slope, intercept, r_value, p_value, std_err = stats.linregress(predict, test_y)\n",
    "print('R Square:', r_value**2)"
   ]
  },
  {
   "cell_type": "markdown",
   "metadata": {},
   "source": [
    "# Submission"
   ]
  },
  {
   "cell_type": "code",
   "execution_count": null,
   "metadata": {
    "collapsed": true
   },
   "outputs": [],
   "source": [
    "data_test = pd.read_csv(os.path.join(datapath,test_csv))"
   ]
  },
  {
   "cell_type": "code",
   "execution_count": null,
   "metadata": {},
   "outputs": [],
   "source": [
    "data_test.head()"
   ]
  },
  {
   "cell_type": "code",
   "execution_count": null,
   "metadata": {
    "collapsed": true
   },
   "outputs": [],
   "source": [
    "#Dropping variables only with zero\n",
    "data_test = data_test.drop(drop, axis = 1)"
   ]
  },
  {
   "cell_type": "code",
   "execution_count": null,
   "metadata": {},
   "outputs": [],
   "source": [
    "for each in tp_obj:\n",
    "    dummies = pd.get_dummies(data_test[each], prefix=each, drop_first=False)\n",
    "    data_test = pd.concat([data_test, dummies], axis=1)\n",
    "\n",
    "data_test = data_test.drop(tp_obj, axis=1)\n",
    "data_test.head()"
   ]
  },
  {
   "cell_type": "code",
   "execution_count": null,
   "metadata": {},
   "outputs": [],
   "source": [
    "predict_test = randomforest.predict(data_test.iloc[:, 1:])\n",
    "#Error :("
   ]
  },
  {
   "cell_type": "code",
   "execution_count": null,
   "metadata": {
    "collapsed": true
   },
   "outputs": [],
   "source": []
  }
 ],
 "metadata": {
  "kernelspec": {
   "display_name": "Python 3",
   "language": "python",
   "name": "python3"
  },
  "language_info": {
   "codemirror_mode": {
    "name": "ipython",
    "version": 3
   },
   "file_extension": ".py",
   "mimetype": "text/x-python",
   "name": "python",
   "nbconvert_exporter": "python",
   "pygments_lexer": "ipython3",
   "version": "3.6.1"
  }
 },
 "nbformat": 4,
 "nbformat_minor": 2
}
